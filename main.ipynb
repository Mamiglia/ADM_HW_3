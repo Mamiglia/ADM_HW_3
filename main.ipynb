{
 "cells": [
  {
   "cell_type": "markdown",
   "metadata": {
    "cell_id": "6eefba59ff2646278f70dec1564253b4",
    "deepnote_cell_type": "text-cell-h1",
    "formattedRanges": [],
    "is_collapsed": false,
    "tags": []
   },
   "source": [
    "# Search Engine - Atlas Obscura"
   ]
  },
  {
   "cell_type": "markdown",
   "metadata": {},
   "source": [
    "- Gasbarri Francesca\n",
    "- Migliarini Matteo 1886186 \n",
    "- Antonio "
   ]
  },
  {
   "cell_type": "code",
   "execution_count": null,
   "metadata": {
    "cell_id": "ce797f518320411a8ffa60344d9626c7",
    "deepnote_cell_type": "code",
    "deepnote_to_be_reexecuted": false,
    "execution_millis": 19785,
    "execution_start": 1668524994147,
    "output_cleared": false,
    "source_hash": "9fd18024",
    "tags": []
   },
   "outputs": [],
   "source": [
    "%pip install beautifulsoup4\n",
    "%pip install locationtagger"
   ]
  },
  {
   "cell_type": "markdown",
   "metadata": {
    "cell_id": "ef6a49e533a14d4693e0f48ca00d0eb6",
    "deepnote_cell_type": "markdown",
    "tags": []
   },
   "source": [
    "Importing Libraries"
   ]
  },
  {
   "cell_type": "code",
   "execution_count": 19,
   "metadata": {
    "cell_id": "188450a50d344f19b41ae403f2f827d6",
    "deepnote_cell_type": "code",
    "deepnote_to_be_reexecuted": false,
    "execution_millis": 1406,
    "execution_start": 1668525013913,
    "output_cleared": true,
    "source_hash": "6df1fb54",
    "tags": []
   },
   "outputs": [],
   "source": [
    "import os\n",
    "import pandas as pd\n",
    "import seaborn as sns\n",
    "import matplotlib.pyplot as plt\n",
    "from datetime import datetime\n",
    "import numpy as np\n",
    "\n",
    "%load_ext autoreload\n",
    "%autoreload 2\n",
    "%matplotlib inline\n",
    "sns.set(rc={\"figure.figsize\":(8, 5)})\n",
    "sns.set_theme(style='darkgrid', palette='pastel')"
   ]
  },
  {
   "cell_type": "markdown",
   "metadata": {
    "cell_id": "9355c3f5-1799-4c50-bcd1-412435a14e0a",
    "deepnote_cell_type": "text-cell-h2",
    "formattedRanges": [],
    "is_collapsed": false,
    "number": 1,
    "style": "decimal",
    "tags": []
   },
   "source": [
    "## 1. Data collection"
   ]
  },
  {
   "cell_type": "code",
   "execution_count": 3,
   "metadata": {},
   "outputs": [],
   "source": [
    "from func.scraper import crawl_urls, setup_folders, download_pages, parse_page, extract_data"
   ]
  },
  {
   "cell_type": "markdown",
   "metadata": {
    "cell_id": "d7a9cc02-7f68-47ec-a0eb-f3defcd5e3fe",
    "deepnote_cell_type": "text-cell-p",
    "formattedRanges": [],
    "is_collapsed": false,
    "number": 1,
    "style": "decimal",
    "tags": []
   },
   "source": [
    "Get the list of the places"
   ]
  },
  {
   "cell_type": "markdown",
   "metadata": {
    "cell_id": "550b94b5-62df-4989-a6d0-7bec58520523",
    "deepnote_cell_type": "text-cell-p",
    "formattedRanges": [],
    "is_collapsed": false,
    "number": 1,
    "style": "decimal",
    "tags": []
   },
   "source": [
    "In order to accomplish this task we first need to get all the URLs of the first 7200 palces we are interested in."
   ]
  },
  {
   "cell_type": "code",
   "execution_count": 4,
   "metadata": {
    "cell_id": "8b89539c26a8427a811d9975b79ce46a",
    "deepnote_cell_type": "code",
    "deepnote_to_be_reexecuted": false,
    "execution_millis": 1,
    "execution_start": 1668525015331,
    "output_cleared": true,
    "source_hash": "7485ce50",
    "tags": []
   },
   "outputs": [],
   "source": [
    "if not os.path.exists('urls.txt'):\n",
    "    crawl_urls(websites=[f'https://www.atlasobscura.com/places?page={i}&sort=likes_count' for i in range(1,401)])"
   ]
  },
  {
   "cell_type": "markdown",
   "metadata": {
    "cell_id": "3a505aa3c8b34a3c9e573a0c01082560",
    "deepnote_cell_type": "text-cell-h3",
    "formattedRanges": [],
    "is_collapsed": false,
    "tags": []
   },
   "source": [
    "### Crawl places"
   ]
  },
  {
   "cell_type": "markdown",
   "metadata": {
    "cell_id": "347e8880-f682-475f-b130-4b19ce850247",
    "deepnote_cell_type": "text-cell-p",
    "formattedRanges": [],
    "is_collapsed": false,
    "tags": []
   },
   "source": [
    "Now we dowload all of them"
   ]
  },
  {
   "cell_type": "code",
   "execution_count": 5,
   "metadata": {
    "cell_id": "aebeee84af85454a92adcd3334c37bcd",
    "deepnote_cell_type": "code",
    "deepnote_to_be_reexecuted": false,
    "execution_millis": 2726,
    "execution_start": 1668525015339,
    "output_cleared": false,
    "source_hash": "c0d1136e",
    "tags": []
   },
   "outputs": [
    {
     "name": "stdout",
     "output_type": "stream",
     "text": [
      "[================================================= ] 99% : 7200\n",
      "file already exists: 7200 \t data/page400/place_17.html                                                  \n"
     ]
    },
    {
     "data": {
      "text/plain": [
       "7201"
      ]
     },
     "execution_count": 5,
     "metadata": {},
     "output_type": "execute_result"
    }
   ],
   "source": [
    "setup_folders(7201//18)\n",
    "download_pages(\n",
    "    src=open('urls.txt', 'r').readlines(), \n",
    "    base_dir='data',\n",
    "    naming=lambda i: f'page{(i-1)//18+1}/place_{(i-1)%18}',\n",
    "    verbose=True)"
   ]
  },
  {
   "cell_type": "markdown",
   "metadata": {
    "cell_id": "b207ffacffa54419b09d8471bd08b750",
    "deepnote_cell_type": "text-cell-h3",
    "formattedRanges": [],
    "is_collapsed": false,
    "tags": []
   },
   "source": [
    "### Parse downloaded pages"
   ]
  },
  {
   "cell_type": "markdown",
   "metadata": {
    "cell_id": "8663df023df1468494b74d386b95ad8f",
    "deepnote_cell_type": "markdown",
    "deepnote_to_be_reexecuted": false,
    "execution_millis": 2,
    "execution_start": 1667500842325,
    "source_hash": "3f417ff6",
    "tags": []
   },
   "source": [
    "In the parsing of the HTML document I take some choices:\n",
    "- in the `placeEditors` field I *do* count also the original Author.\n",
    "- the subscript under the title (indicate an approximate location) is not taken into account anywhere in the instructions, nonetheless we decided to take it into account in the `placeZone` field.\n",
    "- the `placeAddress` is the most problematic field to retrieve, but at the end I managed to get every data I was interested in. \n",
    "- there is at least one problematic row with erroneous or incomplete values, such as coordinates `(0,0)`. I decided to keep it this way since these are nonetheless the values that appear on the website\n",
    "- Whenever one of the fields of collection type (such as `placeEditors`, `placeLists` or `placeTags`) are empty, I replace them with a `NaN` value.\n",
    "\n",
    "Here's an example of the parsing of one document:"
   ]
  },
  {
   "cell_type": "code",
   "execution_count": 6,
   "metadata": {
    "cell_id": "7a79cb4230ef4f9fa2f65067aeef4baf",
    "deepnote_cell_type": "code",
    "deepnote_to_be_reexecuted": false,
    "execution_millis": 157,
    "execution_start": 1668525018084,
    "output_cleared": false,
    "source_hash": "d37238a3",
    "tags": []
   },
   "outputs": [
    {
     "data": {
      "text/plain": [
       "{'placeName': 'Cherry Springs State Park',\n",
       " 'placeTags': 'NA',\n",
       " 'numPeopleVisited': 271,\n",
       " 'numPeopleWant': 1511,\n",
       " 'placeDesc': 'Inside the Susquehannock State Forest is a dark spot.\\xa0 An area with no artificial light pollution, it is a haven for east coast astronomers.\\nCleaved off from the Susquehannock in 1922, the 48-acre park grew back from its near-obliteration due to clear-cutting.\\xa0 In 2000, it was named a Dark Sky Park by the Pennsylvania Department of Conservation and Natural Resources, and in 2007 was the second place added to the International Dark Sky Association’s register of “International Dark Sky Parks.”\\xa0 Since acquiring the nearby Cherry Springs Airport in 2006, the area is so dark at night that, under ideal conditions, the Milky Way casts a visible shadow.',\n",
       " 'placeShortDesc': 'Dark Sky Park is heaven on Earth for astronomers, one of the rare U.S. locations with no artificial light pollution.',\n",
       " 'placeNearby': ['Coudersport Ice Mine', 'Austin Dam', 'Pine Creek Gorge'],\n",
       " 'placeAddress': 'Coudersport-Jersey Shore Highway; Coudersport, Pennsylvania, 16915; United States',\n",
       " 'placeAlt': 41.6627,\n",
       " 'placeLng': -77.8227,\n",
       " 'placeEditors': {'Rachel',\n",
       "  'Rob',\n",
       "  'WhiskeyBristles',\n",
       "  'hrnick',\n",
       "  'karoleschutt',\n",
       "  'mgstyer'},\n",
       " 'placePubDate': 'June 2, 2013',\n",
       " 'placeRelatedLists': 'NA',\n",
       " 'placeRelatedPlaces': 'NA',\n",
       " 'placeUrl': 'url',\n",
       " 'placeZone': 'Coudersport, Pennsylvania'}"
      ]
     },
     "execution_count": 6,
     "metadata": {},
     "output_type": "execute_result"
    }
   ],
   "source": [
    "parse_page(open('data/page46/place_6.html', 'r'), 'url')"
   ]
  },
  {
   "cell_type": "code",
   "execution_count": 7,
   "metadata": {
    "cell_id": "cf74b3e6a0b64b2aa75952c42333ca88",
    "deepnote_cell_type": "code",
    "deepnote_to_be_reexecuted": false,
    "execution_millis": 0,
    "execution_start": 1668525018275,
    "output_cleared": true,
    "source_hash": "f5fb067c",
    "tags": []
   },
   "outputs": [],
   "source": [
    "if not os.path.exists('places.tsv'):\n",
    "    extract_data()"
   ]
  },
  {
   "cell_type": "markdown",
   "metadata": {
    "cell_id": "e2d2269864e84ba9aedb1262927052ed",
    "deepnote_cell_type": "text-cell-p",
    "formattedRanges": [],
    "is_collapsed": false,
    "tags": []
   },
   "source": [
    "The resuling dataframe is the following:"
   ]
  },
  {
   "cell_type": "code",
   "execution_count": 8,
   "metadata": {
    "cell_id": "b84719626b264955b02ef18758e15b34",
    "deepnote_cell_type": "code",
    "deepnote_to_be_reexecuted": false,
    "execution_millis": 1096,
    "execution_start": 1668525018276,
    "output_cleared": false,
    "source_hash": "c76fddce",
    "tags": []
   },
   "outputs": [
    {
     "data": {
      "text/html": [
       "<div>\n",
       "<style scoped>\n",
       "    .dataframe tbody tr th:only-of-type {\n",
       "        vertical-align: middle;\n",
       "    }\n",
       "\n",
       "    .dataframe tbody tr th {\n",
       "        vertical-align: top;\n",
       "    }\n",
       "\n",
       "    .dataframe thead th {\n",
       "        text-align: right;\n",
       "    }\n",
       "</style>\n",
       "<table border=\"1\" class=\"dataframe\">\n",
       "  <thead>\n",
       "    <tr style=\"text-align: right;\">\n",
       "      <th></th>\n",
       "      <th>placeName</th>\n",
       "      <th>placeTags</th>\n",
       "      <th>numPeopleVisited</th>\n",
       "      <th>numPeopleWant</th>\n",
       "      <th>placeDesc</th>\n",
       "      <th>placeShortDesc</th>\n",
       "      <th>placeNearby</th>\n",
       "      <th>placeAddress</th>\n",
       "      <th>placeAlt</th>\n",
       "      <th>placeLng</th>\n",
       "      <th>placeEditors</th>\n",
       "      <th>placePubDate</th>\n",
       "      <th>placeRelatedLists</th>\n",
       "      <th>placeRelatedPlaces</th>\n",
       "      <th>placeUrl</th>\n",
       "      <th>placeZone</th>\n",
       "    </tr>\n",
       "  </thead>\n",
       "  <tbody>\n",
       "    <tr>\n",
       "      <th>0</th>\n",
       "      <td>City Hall Station</td>\n",
       "      <td>{'architectural oddities', 'subterranean', 'su...</td>\n",
       "      <td>1828</td>\n",
       "      <td>8580</td>\n",
       "      <td>The first New York City subway was built and o...</td>\n",
       "      <td>A beautiful and abandoned New York subway stat...</td>\n",
       "      <td>['African Burial Ground National Monument', 'T...</td>\n",
       "      <td>31 Centre St; New York, New York, 10007; Unite...</td>\n",
       "      <td>40.7134</td>\n",
       "      <td>-74.0046</td>\n",
       "      <td>{'mbison', 'Rebekah Otto', 'Mike H', 'Habicuri...</td>\n",
       "      <td>2010-05-08</td>\n",
       "      <td>['30 Unexpected Places to Have a Joyful Advent...</td>\n",
       "      <td>['Crystal Palace Subway', 'Moscow Metro Statio...</td>\n",
       "      <td>https://www.atlasobscura.com/places/city-hall-...</td>\n",
       "      <td>Manhattan, New York</td>\n",
       "    </tr>\n",
       "    <tr>\n",
       "      <th>1</th>\n",
       "      <td>Highgate Cemetery</td>\n",
       "      <td>{'catacombs and crypts', 'rivals week', 'vampi...</td>\n",
       "      <td>2617</td>\n",
       "      <td>8182</td>\n",
       "      <td>Opened in 1839, Highgate is one of London’s mo...</td>\n",
       "      <td>London's creepiest cemetery was once the site ...</td>\n",
       "      <td>[\"World's Largest Potted Plant\", 'Dick Whittin...</td>\n",
       "      <td>Swain's Lane, Highgate; London, England, N6; U...</td>\n",
       "      <td>51.5675</td>\n",
       "      <td>-0.1483</td>\n",
       "      <td>{'mbison', 'gingercinnamon', 'Goksu', 'Lauren ...</td>\n",
       "      <td>2014-08-09</td>\n",
       "      <td>[\"The World's Top 100 Wonders in 2018\", \"Londo...</td>\n",
       "      <td>['Jewett City Vampires', 'Tomb of the Mather F...</td>\n",
       "      <td>https://www.atlasobscura.com/places/highgate-c...</td>\n",
       "      <td>London, England</td>\n",
       "    </tr>\n",
       "    <tr>\n",
       "      <th>2</th>\n",
       "      <td>Leadenhall Market</td>\n",
       "      <td>{'film locations', 'markets', 'film'}</td>\n",
       "      <td>3134</td>\n",
       "      <td>7567</td>\n",
       "      <td>The ornate 19th-century painted roof and cobbl...</td>\n",
       "      <td>This ornate Victorian marketplace was the sett...</td>\n",
       "      <td>['The Cornhill Devils', \"London's Original and...</td>\n",
       "      <td>London, England, EC3V; United Kingdom</td>\n",
       "      <td>51.5126</td>\n",
       "      <td>-0.0834</td>\n",
       "      <td>{'JZA', 'Goksu', 'JulesR', 'lili', 'amiedd', '...</td>\n",
       "      <td>2016-08-01</td>\n",
       "      <td>['The Ultimate Guide to Stunning, Surprising, ...</td>\n",
       "      <td>['Rivendell', 'Bagdad Cafe', 'Gare de la Ciota...</td>\n",
       "      <td>https://www.atlasobscura.com/places/leadenhall...</td>\n",
       "      <td>London, England</td>\n",
       "    </tr>\n",
       "    <tr>\n",
       "      <th>3</th>\n",
       "      <td>The Wave Organ</td>\n",
       "      <td>{'art', 'aletrail', 'music', 'sounds', 'sea or...</td>\n",
       "      <td>2427</td>\n",
       "      <td>7406</td>\n",
       "      <td>Located on a jetty in the San Francisco Bay, t...</td>\n",
       "      <td>A huge musical instrument played by the ocean.</td>\n",
       "      <td>['Long Now Orrery', 'The Stern of the Briganti...</td>\n",
       "      <td>83 Marina Green Dr; San Francisco, California,...</td>\n",
       "      <td>37.8085</td>\n",
       "      <td>-122.4401</td>\n",
       "      <td>{'mbison', 'catleast', 'bylow1md', 'td007', 'e...</td>\n",
       "      <td>2008-11-21</td>\n",
       "      <td>[\"Leonardo Nam's 16 Quirky Roadside Attraction...</td>\n",
       "      <td>['Sea Organ', 'Silent Green Kulturquartier', \"...</td>\n",
       "      <td>https://www.atlasobscura.com/places/wave-organ</td>\n",
       "      <td>San Francisco, California</td>\n",
       "    </tr>\n",
       "    <tr>\n",
       "      <th>4</th>\n",
       "      <td>Catacombes de Paris</td>\n",
       "      <td>{'ossuaries', 'catacombs and crypts', 'memento...</td>\n",
       "      <td>4445</td>\n",
       "      <td>7045</td>\n",
       "      <td>In 2004, Parisian police were assigned to do a...</td>\n",
       "      <td>The vast, legendary catacombs hold secrets muc...</td>\n",
       "      <td>['Sculptures de Décure', 'Arago Medallions', \"...</td>\n",
       "      <td>1 Place Denfert-Rochereau; Paris, 75014; France</td>\n",
       "      <td>48.8343</td>\n",
       "      <td>2.3322</td>\n",
       "      <td>{'gingercinnamon', 'Kidiu', 'valely199', 'Laur...</td>\n",
       "      <td>2009-02-13</td>\n",
       "      <td>['19 Catacombs Sure to Tingle Your Spine', \"Th...</td>\n",
       "      <td>['Ossario di San Martino', 'Leuk Charnel House...</td>\n",
       "      <td>https://www.atlasobscura.com/places/catacombes...</td>\n",
       "      <td>Paris, France</td>\n",
       "    </tr>\n",
       "  </tbody>\n",
       "</table>\n",
       "</div>"
      ],
      "text/plain": [
       "             placeName                                          placeTags  \\\n",
       "0    City Hall Station  {'architectural oddities', 'subterranean', 'su...   \n",
       "1    Highgate Cemetery  {'catacombs and crypts', 'rivals week', 'vampi...   \n",
       "2    Leadenhall Market              {'film locations', 'markets', 'film'}   \n",
       "3       The Wave Organ  {'art', 'aletrail', 'music', 'sounds', 'sea or...   \n",
       "4  Catacombes de Paris  {'ossuaries', 'catacombs and crypts', 'memento...   \n",
       "\n",
       "   numPeopleVisited  numPeopleWant  \\\n",
       "0              1828           8580   \n",
       "1              2617           8182   \n",
       "2              3134           7567   \n",
       "3              2427           7406   \n",
       "4              4445           7045   \n",
       "\n",
       "                                           placeDesc  \\\n",
       "0  The first New York City subway was built and o...   \n",
       "1  Opened in 1839, Highgate is one of London’s mo...   \n",
       "2  The ornate 19th-century painted roof and cobbl...   \n",
       "3  Located on a jetty in the San Francisco Bay, t...   \n",
       "4  In 2004, Parisian police were assigned to do a...   \n",
       "\n",
       "                                      placeShortDesc  \\\n",
       "0  A beautiful and abandoned New York subway stat...   \n",
       "1  London's creepiest cemetery was once the site ...   \n",
       "2  This ornate Victorian marketplace was the sett...   \n",
       "3     A huge musical instrument played by the ocean.   \n",
       "4  The vast, legendary catacombs hold secrets muc...   \n",
       "\n",
       "                                         placeNearby  \\\n",
       "0  ['African Burial Ground National Monument', 'T...   \n",
       "1  [\"World's Largest Potted Plant\", 'Dick Whittin...   \n",
       "2  ['The Cornhill Devils', \"London's Original and...   \n",
       "3  ['Long Now Orrery', 'The Stern of the Briganti...   \n",
       "4  ['Sculptures de Décure', 'Arago Medallions', \"...   \n",
       "\n",
       "                                        placeAddress  placeAlt  placeLng  \\\n",
       "0  31 Centre St; New York, New York, 10007; Unite...   40.7134  -74.0046   \n",
       "1  Swain's Lane, Highgate; London, England, N6; U...   51.5675   -0.1483   \n",
       "2              London, England, EC3V; United Kingdom   51.5126   -0.0834   \n",
       "3  83 Marina Green Dr; San Francisco, California,...   37.8085 -122.4401   \n",
       "4    1 Place Denfert-Rochereau; Paris, 75014; France   48.8343    2.3322   \n",
       "\n",
       "                                        placeEditors placePubDate  \\\n",
       "0  {'mbison', 'Rebekah Otto', 'Mike H', 'Habicuri...   2010-05-08   \n",
       "1  {'mbison', 'gingercinnamon', 'Goksu', 'Lauren ...   2014-08-09   \n",
       "2  {'JZA', 'Goksu', 'JulesR', 'lili', 'amiedd', '...   2016-08-01   \n",
       "3  {'mbison', 'catleast', 'bylow1md', 'td007', 'e...   2008-11-21   \n",
       "4  {'gingercinnamon', 'Kidiu', 'valely199', 'Laur...   2009-02-13   \n",
       "\n",
       "                                   placeRelatedLists  \\\n",
       "0  ['30 Unexpected Places to Have a Joyful Advent...   \n",
       "1  [\"The World's Top 100 Wonders in 2018\", \"Londo...   \n",
       "2  ['The Ultimate Guide to Stunning, Surprising, ...   \n",
       "3  [\"Leonardo Nam's 16 Quirky Roadside Attraction...   \n",
       "4  ['19 Catacombs Sure to Tingle Your Spine', \"Th...   \n",
       "\n",
       "                                  placeRelatedPlaces  \\\n",
       "0  ['Crystal Palace Subway', 'Moscow Metro Statio...   \n",
       "1  ['Jewett City Vampires', 'Tomb of the Mather F...   \n",
       "2  ['Rivendell', 'Bagdad Cafe', 'Gare de la Ciota...   \n",
       "3  ['Sea Organ', 'Silent Green Kulturquartier', \"...   \n",
       "4  ['Ossario di San Martino', 'Leuk Charnel House...   \n",
       "\n",
       "                                            placeUrl  \\\n",
       "0  https://www.atlasobscura.com/places/city-hall-...   \n",
       "1  https://www.atlasobscura.com/places/highgate-c...   \n",
       "2  https://www.atlasobscura.com/places/leadenhall...   \n",
       "3     https://www.atlasobscura.com/places/wave-organ   \n",
       "4  https://www.atlasobscura.com/places/catacombes...   \n",
       "\n",
       "                   placeZone  \n",
       "0        Manhattan, New York  \n",
       "1            London, England  \n",
       "2            London, England  \n",
       "3  San Francisco, California  \n",
       "4              Paris, France  "
      ]
     },
     "execution_count": 8,
     "metadata": {},
     "output_type": "execute_result"
    }
   ],
   "source": [
    "data = pd.read_csv('places.tsv', sep='\\t', parse_dates=['placePubDate'])\n",
    "data.head()"
   ]
  },
  {
   "cell_type": "code",
   "execution_count": 9,
   "metadata": {
    "cell_id": "a6076290c02e49bd97f3d181823506b2",
    "deepnote_cell_type": "code",
    "deepnote_to_be_reexecuted": false,
    "execution_millis": 350,
    "execution_start": 1668525019022,
    "output_cleared": false,
    "source_hash": "957547ae",
    "tags": []
   },
   "outputs": [
    {
     "name": "stdout",
     "output_type": "stream",
     "text": [
      "<class 'pandas.core.frame.DataFrame'>\n",
      "RangeIndex: 7200 entries, 0 to 7199\n",
      "Data columns (total 16 columns):\n",
      " #   Column              Non-Null Count  Dtype         \n",
      "---  ------              --------------  -----         \n",
      " 0   placeName           7200 non-null   object        \n",
      " 1   placeTags           7166 non-null   object        \n",
      " 2   numPeopleVisited    7200 non-null   int64         \n",
      " 3   numPeopleWant       7200 non-null   int64         \n",
      " 4   placeDesc           7200 non-null   object        \n",
      " 5   placeShortDesc      7200 non-null   object        \n",
      " 6   placeNearby         7200 non-null   object        \n",
      " 7   placeAddress        7200 non-null   object        \n",
      " 8   placeAlt            7200 non-null   float64       \n",
      " 9   placeLng            7200 non-null   float64       \n",
      " 10  placeEditors        7200 non-null   object        \n",
      " 11  placePubDate        7199 non-null   datetime64[ns]\n",
      " 12  placeRelatedLists   2760 non-null   object        \n",
      " 13  placeRelatedPlaces  7166 non-null   object        \n",
      " 14  placeUrl            7200 non-null   object        \n",
      " 15  placeZone           7199 non-null   object        \n",
      "dtypes: datetime64[ns](1), float64(2), int64(2), object(11)\n",
      "memory usage: 900.1+ KB\n"
     ]
    }
   ],
   "source": [
    "data.info()"
   ]
  },
  {
   "cell_type": "markdown",
   "metadata": {
    "cell_id": "770ab3291ea046a3bf3d6182714f1633",
    "deepnote_cell_type": "text-cell-h2",
    "formattedRanges": [],
    "is_collapsed": false,
    "tags": []
   },
   "source": [
    "## 2. Search Engine"
   ]
  },
  {
   "cell_type": "markdown",
   "metadata": {
    "cell_id": "12b82884a042469daf44fb08398b4225",
    "deepnote_cell_type": "markdown",
    "tags": []
   },
   "source": [
    "The [NLTK](https://www.nltk.org/) Library allows us to process each description and to reduce it to its 'kernel':\n",
    "- Removing stopwords\n",
    "- Removing punctuation\n",
    "- Stemming each word"
   ]
  },
  {
   "cell_type": "code",
   "execution_count": 10,
   "metadata": {
    "cell_id": "9f1151ef06104b9b8c91e962eaac95d4",
    "deepnote_cell_type": "code",
    "deepnote_to_be_reexecuted": false,
    "execution_millis": 830,
    "execution_start": 1668525019023,
    "output_cleared": false,
    "source_hash": "ae62569e",
    "tags": []
   },
   "outputs": [
    {
     "name": "stdout",
     "output_type": "stream",
     "text": [
      "{'citi', 'station', 'kind', 'new', 'york', 'central', '1921', 'open', 'first', 'one', 'promin'}\n"
     ]
    }
   ],
   "source": [
    "from nltk.stem import PorterStemmer\n",
    "from nltk.tokenize import RegexpTokenizer\n",
    "import nltk\n",
    "nltk.download('stopwords', quiet=True)\n",
    "from nltk.corpus import stopwords\n",
    "\n",
    "wd_tokens = RegexpTokenizer(r'\\w+')\n",
    "stop_words = set(stopwords.words('english'))\n",
    "ps = PorterStemmer()\n",
    "\n",
    "pre_process = lambda d: {ps.stem(word.lower()) for word in wd_tokens.tokenize(d) if word not in stop_words}\n",
    "print(pre_process('Opened in 1921, New York City first central station is one of the most prominent of its kind!'))"
   ]
  },
  {
   "cell_type": "markdown",
   "metadata": {
    "cell_id": "026cc391b43c48379939cb7ecd4d0777",
    "deepnote_cell_type": "text-cell-h3",
    "formattedRanges": [],
    "is_collapsed": false,
    "tags": []
   },
   "source": [
    "### Conjunctive query"
   ]
  },
  {
   "cell_type": "markdown",
   "metadata": {
    "cell_id": "fca9fba349764ff085f2910c8db2b2b7",
    "deepnote_cell_type": "markdown",
    "tags": []
   },
   "source": [
    "We now want to build our reversed index, such that for each stemmed term of our descriptions we know the list of the associated documents. The first naive approach to build such an index would be using a `dict` with key the term and value a `list` (or `set`) of documents ids. \n",
    "While this implementation would work quite fine at the beginning, we soon realize that we would be limited in the next steps, as such we focus on a more complex and efficient approach that will likely help us later.\n",
    "\n",
    "We decide to implement this task by storing our reverse index in a [Sparse Matrix](https://docs.scipy.org/doc//scipy/reference/sparse.html), a model for mostly empty matrices, as this is our case. Each column of the $M$ matrix is one of the 7200 documents and each row is an integer $i \\in  \\{0,2^{64}-1\\}$, representing the 64 bit hashing of the terms of the documents, $i = hash(term) $.\n",
    "As such the resulting content of a cell is \n",
    "$$\n",
    "\\forall i, i = hash(term) : \\ \n",
    "M_{ij} = \n",
    "\\begin{cases}\n",
    "    1 & \\text{if  } term \\in document_j \\\\\n",
    "    0 & \\text{otherwise}\n",
    "\\end{cases} \n",
    "$$\n",
    "Then, given a vectorized query $q$ of length $m$ (assuming no repetitions in the query terms), the output we search are the indexes of the matrix multiplication $sum\\_over\\_columns(q \\cdot M)$ where the value is equal to $m$."
   ]
  },
  {
   "cell_type": "code",
   "execution_count": 11,
   "metadata": {
    "cell_id": "c1182de0ff1147588136742ab21c3989",
    "deepnote_cell_type": "code",
    "deepnote_to_be_reexecuted": false,
    "execution_millis": 38388,
    "execution_start": 1668525019867,
    "output_cleared": false,
    "source_hash": "9bd44ecd",
    "tags": []
   },
   "outputs": [
    {
     "data": {
      "text/html": [
       "<div>\n",
       "<style scoped>\n",
       "    .dataframe tbody tr th:only-of-type {\n",
       "        vertical-align: middle;\n",
       "    }\n",
       "\n",
       "    .dataframe tbody tr th {\n",
       "        vertical-align: top;\n",
       "    }\n",
       "\n",
       "    .dataframe thead th {\n",
       "        text-align: right;\n",
       "    }\n",
       "</style>\n",
       "<table border=\"1\" class=\"dataframe\">\n",
       "  <thead>\n",
       "    <tr style=\"text-align: right;\">\n",
       "      <th></th>\n",
       "      <th>placeName</th>\n",
       "      <th>placeDesc</th>\n",
       "      <th>placeUrl</th>\n",
       "    </tr>\n",
       "  </thead>\n",
       "  <tbody>\n",
       "    <tr>\n",
       "      <th>1838</th>\n",
       "      <td>The Smile Face Museum</td>\n",
       "      <td>A shrine to the iconic yellow grin that has ac...</td>\n",
       "      <td>https://www.atlasobscura.com/places/the-smile-...</td>\n",
       "    </tr>\n",
       "  </tbody>\n",
       "</table>\n",
       "</div>"
      ],
      "text/plain": [
       "                  placeName  \\\n",
       "1838  The Smile Face Museum   \n",
       "\n",
       "                                              placeDesc  \\\n",
       "1838  A shrine to the iconic yellow grin that has ac...   \n",
       "\n",
       "                                               placeUrl  \n",
       "1838  https://www.atlasobscura.com/places/the-smile-...  "
      ]
     },
     "execution_count": 11,
     "metadata": {},
     "output_type": "execute_result"
    }
   ],
   "source": [
    "from func.engines import Engine\n",
    "\n",
    "simpleEngine = Engine(data, out_columns=['placeName', 'placeDesc', 'placeUrl'])\n",
    "simpleEngine.fit(['placeDesc'])\n",
    "simpleEngine.search('Yellow grin')"
   ]
  },
  {
   "cell_type": "markdown",
   "metadata": {
    "cell_id": "c00964fcc88448dd9b10e0d4fa1588cc",
    "deepnote_cell_type": "markdown",
    "tags": []
   },
   "source": [
    "We can now test out our new *Simple Search Engine* :"
   ]
  },
  {
   "cell_type": "code",
   "execution_count": 12,
   "metadata": {
    "cell_id": "ff5e68c5c7b84266924890241f8d4052",
    "deepnote_cell_type": "code",
    "deepnote_to_be_reexecuted": false,
    "execution_millis": 99049,
    "execution_start": 1668525058080,
    "output_cleared": false,
    "source_hash": "cc1f9f71",
    "tags": []
   },
   "outputs": [
    {
     "name": "stdin",
     "output_type": "stream",
     "text": [
      "Search Atlas Obscura:  American Museum\n"
     ]
    },
    {
     "data": {
      "text/html": [
       "<div>\n",
       "<style scoped>\n",
       "    .dataframe tbody tr th:only-of-type {\n",
       "        vertical-align: middle;\n",
       "    }\n",
       "\n",
       "    .dataframe tbody tr th {\n",
       "        vertical-align: top;\n",
       "    }\n",
       "\n",
       "    .dataframe thead th {\n",
       "        text-align: right;\n",
       "    }\n",
       "</style>\n",
       "<table border=\"1\" class=\"dataframe\">\n",
       "  <thead>\n",
       "    <tr style=\"text-align: right;\">\n",
       "      <th></th>\n",
       "      <th>placeName</th>\n",
       "      <th>placeDesc</th>\n",
       "      <th>placeUrl</th>\n",
       "    </tr>\n",
       "  </thead>\n",
       "  <tbody>\n",
       "    <tr>\n",
       "      <th>59</th>\n",
       "      <td>The Witch House of Salem</td>\n",
       "      <td>The Salem witchcraft trials took place between...</td>\n",
       "      <td>https://www.atlasobscura.com/places/witch-hous...</td>\n",
       "    </tr>\n",
       "    <tr>\n",
       "      <th>141</th>\n",
       "      <td>Museum of the Weird</td>\n",
       "      <td>The dime or dime store museum is by all accoun...</td>\n",
       "      <td>https://www.atlasobscura.com/places/museum-weird</td>\n",
       "    </tr>\n",
       "    <tr>\n",
       "      <th>173</th>\n",
       "      <td>National Atomic Testing Museum</td>\n",
       "      <td>Las Vegas is an oasis in the desert where no o...</td>\n",
       "      <td>https://www.atlasobscura.com/places/national-a...</td>\n",
       "    </tr>\n",
       "    <tr>\n",
       "      <th>224</th>\n",
       "      <td>Canyons of the Ancients</td>\n",
       "      <td>Ripe for quiet reflection and simply awe-inspi...</td>\n",
       "      <td>https://www.atlasobscura.com/places/canyons-of...</td>\n",
       "    </tr>\n",
       "    <tr>\n",
       "      <th>320</th>\n",
       "      <td>The Natural Bridge</td>\n",
       "      <td>Often cited as having a place among the great ...</td>\n",
       "      <td>https://www.atlasobscura.com/places/the-natura...</td>\n",
       "    </tr>\n",
       "  </tbody>\n",
       "</table>\n",
       "</div>"
      ],
      "text/plain": [
       "                          placeName  \\\n",
       "59         The Witch House of Salem   \n",
       "141             Museum of the Weird   \n",
       "173  National Atomic Testing Museum   \n",
       "224         Canyons of the Ancients   \n",
       "320              The Natural Bridge   \n",
       "\n",
       "                                             placeDesc  \\\n",
       "59   The Salem witchcraft trials took place between...   \n",
       "141  The dime or dime store museum is by all accoun...   \n",
       "173  Las Vegas is an oasis in the desert where no o...   \n",
       "224  Ripe for quiet reflection and simply awe-inspi...   \n",
       "320  Often cited as having a place among the great ...   \n",
       "\n",
       "                                              placeUrl  \n",
       "59   https://www.atlasobscura.com/places/witch-hous...  \n",
       "141   https://www.atlasobscura.com/places/museum-weird  \n",
       "173  https://www.atlasobscura.com/places/national-a...  \n",
       "224  https://www.atlasobscura.com/places/canyons-of...  \n",
       "320  https://www.atlasobscura.com/places/the-natura...  "
      ]
     },
     "execution_count": 12,
     "metadata": {},
     "output_type": "execute_result"
    }
   ],
   "source": [
    "simpleEngine.search(query=input(\"Search Atlas Obscura: \"), k=5)"
   ]
  },
  {
   "cell_type": "markdown",
   "metadata": {
    "cell_id": "ebf66b417ecc4adbb5553ffd2ba0588b",
    "deepnote_cell_type": "markdown",
    "tags": []
   },
   "source": [
    "One of the reasons for which we use a Sparse matrix is because in this way we can spare so much memory, in fact this is the percentage of usage of our matrix over all!"
   ]
  },
  {
   "cell_type": "code",
   "execution_count": 13,
   "metadata": {
    "cell_id": "1aac4824b757420bb70f22280ec1f5a8",
    "deepnote_cell_type": "code",
    "deepnote_to_be_reexecuted": false,
    "execution_millis": 14,
    "execution_start": 1668525157141,
    "output_cleared": false,
    "source_hash": "d4c7f85c",
    "tags": []
   },
   "outputs": [
    {
     "name": "stdout",
     "output_type": "stream",
     "text": [
      "Index Matrix sparsity factor: 1.4168097997860956e-17%\n"
     ]
    }
   ],
   "source": [
    "print(f'Index Matrix sparsity factor: { simpleEngine.matrix.nnz / simpleEngine.matrix.shape[0] /simpleEngine.matrix.shape[1]}%')"
   ]
  },
  {
   "cell_type": "markdown",
   "metadata": {
    "cell_id": "6a6655495b264719ac29e58476c3399e",
    "deepnote_cell_type": "text-cell-h3",
    "formattedRanges": [],
    "is_collapsed": false,
    "tags": []
   },
   "source": [
    "### Conjunctive query & Ranking score"
   ]
  },
  {
   "cell_type": "markdown",
   "metadata": {
    "cell_id": "06ad599e67e845d0ae56df7daf55ecaa",
    "deepnote_cell_type": "markdown",
    "tags": []
   },
   "source": [
    "The **Cosine Similarity** allows us to compare 2 documents and identify the grade of Similarity between them. \n",
    "$$\n",
    "    cos\\_sim(a, b) = \\frac{a \\cdot b}{||a|| \\ ||b||} = \\sum_{i=0}^n \\frac{ a_i b_i}{||a|| \\ ||b||}\n",
    "$$\n",
    "Now, given a document and its vectorized form $d$, we want to define a score for each of its terms that weights the importance of that term. We define this as the **Term Frequency - Inverted Document Frequency** score, composed by:\n",
    "$$\n",
    "    TF\\_IDF(t,d) = TF(t,d) \\cdot IDF(d,t)\n",
    "$$\n",
    "Where the **term frequency** is the frequency (importance) of the term in that document:\n",
    "$$\n",
    "    TF(t,d) = \\frac{d_t}{||d||}\n",
    "$$\n",
    "And the **inverted document frequency** is the inverse frequency of the term in the corpus $D$ of the documents:\n",
    "$$\n",
    "    IDF(t) = \\frac{|D|}{|\\{d \\in D : d_t \\in d\\}|}\n",
    "$$\n",
    "As such we can see that for any query $q$ of length $N$ (assuming no repetitions in the query terms), the cosine similarity with the document $d$ is :\n",
    "\n",
    "$$\n",
    "    similarity(q, d) = cosine\\_similarty \\left( \n",
    "        \\left[\\begin{array}{cccc}\n",
    "            TF\\_IDF(q_1, d)\\\\\n",
    "            TF\\_IDF(q_2, d)\\\\\n",
    "            \\vdots \\\\\n",
    "            TF\\_IDF(q_m, d)\n",
    "        \\end{array} \\right] , \n",
    "        \\left[\\begin{array}{cccc}\n",
    "            TF\\_IDF(q_1, q)\\\\\n",
    "            TF\\_IDF(q_2, q)\\\\\n",
    "            \\vdots \\\\\n",
    "            TF\\_IDF(q_m, q)\n",
    "        \\end{array} \\right] \\right)\n",
    "\n",
    "$$"
   ]
  },
  {
   "cell_type": "code",
   "execution_count": 14,
   "metadata": {
    "cell_id": "ed2a232d46d54e89beac02d496eaac5a",
    "deepnote_cell_type": "code",
    "deepnote_to_be_reexecuted": false,
    "execution_millis": 58944,
    "execution_start": 1668525157183,
    "output_cleared": false,
    "source_hash": "36b362c3",
    "tags": []
   },
   "outputs": [
    {
     "data": {
      "text/html": [
       "<div>\n",
       "<style scoped>\n",
       "    .dataframe tbody tr th:only-of-type {\n",
       "        vertical-align: middle;\n",
       "    }\n",
       "\n",
       "    .dataframe tbody tr th {\n",
       "        vertical-align: top;\n",
       "    }\n",
       "\n",
       "    .dataframe thead th {\n",
       "        text-align: right;\n",
       "    }\n",
       "</style>\n",
       "<table border=\"1\" class=\"dataframe\">\n",
       "  <thead>\n",
       "    <tr style=\"text-align: right;\">\n",
       "      <th></th>\n",
       "      <th>placeName</th>\n",
       "      <th>placeDesc</th>\n",
       "      <th>placeUrl</th>\n",
       "      <th>similarity</th>\n",
       "    </tr>\n",
       "  </thead>\n",
       "  <tbody>\n",
       "    <tr>\n",
       "      <th>1</th>\n",
       "      <td>Highgate Cemetery</td>\n",
       "      <td>Opened in 1839, Highgate is one of London’s mo...</td>\n",
       "      <td>https://www.atlasobscura.com/places/highgate-c...</td>\n",
       "      <td>0.916812</td>\n",
       "    </tr>\n",
       "    <tr>\n",
       "      <th>2964</th>\n",
       "      <td>World's Largest Potted Plant</td>\n",
       "      <td>At the heart of the west side of Highgate Ceme...</td>\n",
       "      <td>https://www.atlasobscura.com/places/worlds-lar...</td>\n",
       "      <td>0.914416</td>\n",
       "    </tr>\n",
       "    <tr>\n",
       "      <th>6590</th>\n",
       "      <td>Dick Whittington’s Cat</td>\n",
       "      <td>Born in the 135os, Richard Whittington was a p...</td>\n",
       "      <td>https://www.atlasobscura.com/places/dick-whitt...</td>\n",
       "      <td>0.808255</td>\n",
       "    </tr>\n",
       "  </tbody>\n",
       "</table>\n",
       "</div>"
      ],
      "text/plain": [
       "                         placeName  \\\n",
       "1                Highgate Cemetery   \n",
       "2964  World's Largest Potted Plant   \n",
       "6590        Dick Whittington’s Cat   \n",
       "\n",
       "                                              placeDesc  \\\n",
       "1     Opened in 1839, Highgate is one of London’s mo...   \n",
       "2964  At the heart of the west side of Highgate Ceme...   \n",
       "6590  Born in the 135os, Richard Whittington was a p...   \n",
       "\n",
       "                                               placeUrl  similarity  \n",
       "1     https://www.atlasobscura.com/places/highgate-c...    0.916812  \n",
       "2964  https://www.atlasobscura.com/places/worlds-lar...    0.914416  \n",
       "6590  https://www.atlasobscura.com/places/dick-whitt...    0.808255  "
      ]
     },
     "execution_count": 14,
     "metadata": {},
     "output_type": "execute_result"
    }
   ],
   "source": [
    "from func.engines import SimilarityEngine\n",
    "\n",
    "simEngine = SimilarityEngine(data, ['placeName', 'placeDesc', 'placeUrl'])\n",
    "simEngine.fit(['placeDesc'])\n",
    "simEngine.search('london highgate cemetery', k=3)"
   ]
  },
  {
   "cell_type": "markdown",
   "metadata": {
    "cell_id": "c925febccd1943919d351de9c68bed57",
    "deepnote_cell_type": "markdown",
    "tags": []
   },
   "source": [
    "#### Let's test the search engine: "
   ]
  },
  {
   "cell_type": "code",
   "execution_count": 15,
   "metadata": {
    "cell_id": "3002a7999f594d60a5f6b066a153e499",
    "deepnote_cell_type": "code",
    "deepnote_table_loading": false,
    "deepnote_table_state": {
     "filters": [
      {
       "id": "placeName",
       "type": "contains",
       "value": ""
      }
     ],
     "pageIndex": 0,
     "pageSize": 10,
     "sortBy": []
    },
    "deepnote_to_be_reexecuted": false,
    "execution_millis": 261,
    "execution_start": 1668525216748,
    "output_cleared": false,
    "source_hash": "eb610cf9",
    "tags": []
   },
   "outputs": [
    {
     "name": "stdin",
     "output_type": "stream",
     "text": [
      "Search Atlas Obscura:  American Museum\n"
     ]
    },
    {
     "data": {
      "text/html": [
       "<div>\n",
       "<style scoped>\n",
       "    .dataframe tbody tr th:only-of-type {\n",
       "        vertical-align: middle;\n",
       "    }\n",
       "\n",
       "    .dataframe tbody tr th {\n",
       "        vertical-align: top;\n",
       "    }\n",
       "\n",
       "    .dataframe thead th {\n",
       "        text-align: right;\n",
       "    }\n",
       "</style>\n",
       "<table border=\"1\" class=\"dataframe\">\n",
       "  <thead>\n",
       "    <tr style=\"text-align: right;\">\n",
       "      <th></th>\n",
       "      <th>placeName</th>\n",
       "      <th>placeDesc</th>\n",
       "      <th>placeUrl</th>\n",
       "      <th>similarity</th>\n",
       "    </tr>\n",
       "  </thead>\n",
       "  <tbody>\n",
       "    <tr>\n",
       "      <th>3710</th>\n",
       "      <td>Birthplace of the Banana Split</td>\n",
       "      <td>David Strickler was just a 23-year-old pharmac...</td>\n",
       "      <td>https://www.atlasobscura.com/places/birthplace...</td>\n",
       "      <td>1.0</td>\n",
       "    </tr>\n",
       "    <tr>\n",
       "      <th>2938</th>\n",
       "      <td>Aria Antiques</td>\n",
       "      <td>Tucked between the Italian bakeries and laundr...</td>\n",
       "      <td>https://www.atlasobscura.com/places/aria-antiques</td>\n",
       "      <td>1.0</td>\n",
       "    </tr>\n",
       "    <tr>\n",
       "      <th>1890</th>\n",
       "      <td>Old Slave Mart</td>\n",
       "      <td>Built in 1859, the Old Slave Mart was actually...</td>\n",
       "      <td>https://www.atlasobscura.com/places/old-slave-...</td>\n",
       "      <td>1.0</td>\n",
       "    </tr>\n",
       "    <tr>\n",
       "      <th>6946</th>\n",
       "      <td>Zwack Unicum Museum</td>\n",
       "      <td>Sometimes referred to as the Hungarian nationa...</td>\n",
       "      <td>https://www.atlasobscura.com/places/zwack-unic...</td>\n",
       "      <td>1.0</td>\n",
       "    </tr>\n",
       "    <tr>\n",
       "      <th>6258</th>\n",
       "      <td>French Azilum</td>\n",
       "      <td>Despite France’s crucial role in helping Ameri...</td>\n",
       "      <td>https://www.atlasobscura.com/places/french-azilum</td>\n",
       "      <td>1.0</td>\n",
       "    </tr>\n",
       "  </tbody>\n",
       "</table>\n",
       "</div>"
      ],
      "text/plain": [
       "                           placeName  \\\n",
       "3710  Birthplace of the Banana Split   \n",
       "2938                   Aria Antiques   \n",
       "1890                  Old Slave Mart   \n",
       "6946             Zwack Unicum Museum   \n",
       "6258                   French Azilum   \n",
       "\n",
       "                                              placeDesc  \\\n",
       "3710  David Strickler was just a 23-year-old pharmac...   \n",
       "2938  Tucked between the Italian bakeries and laundr...   \n",
       "1890  Built in 1859, the Old Slave Mart was actually...   \n",
       "6946  Sometimes referred to as the Hungarian nationa...   \n",
       "6258  Despite France’s crucial role in helping Ameri...   \n",
       "\n",
       "                                               placeUrl  similarity  \n",
       "3710  https://www.atlasobscura.com/places/birthplace...         1.0  \n",
       "2938  https://www.atlasobscura.com/places/aria-antiques         1.0  \n",
       "1890  https://www.atlasobscura.com/places/old-slave-...         1.0  \n",
       "6946  https://www.atlasobscura.com/places/zwack-unic...         1.0  \n",
       "6258  https://www.atlasobscura.com/places/french-azilum         1.0  "
      ]
     },
     "execution_count": 15,
     "metadata": {},
     "output_type": "execute_result"
    }
   ],
   "source": [
    "simEngine.search(query=input(\"Search Atlas Obscura: \"), k = 5)"
   ]
  },
  {
   "cell_type": "markdown",
   "metadata": {
    "cell_id": "126e08a3672046cf885a2143f64d2a50",
    "deepnote_cell_type": "markdown",
    "tags": []
   },
   "source": [
    "Kinda specific query:"
   ]
  },
  {
   "cell_type": "code",
   "execution_count": 16,
   "metadata": {
    "cell_id": "2b74e78268614a1b92cc4cf0327b3f9b",
    "deepnote_cell_type": "code",
    "deepnote_to_be_reexecuted": false,
    "execution_millis": 520,
    "execution_start": 1668525216946,
    "output_cleared": false,
    "source_hash": "a3fcd09b",
    "tags": []
   },
   "outputs": [
    {
     "data": {
      "text/html": [
       "<div>\n",
       "<style scoped>\n",
       "    .dataframe tbody tr th:only-of-type {\n",
       "        vertical-align: middle;\n",
       "    }\n",
       "\n",
       "    .dataframe tbody tr th {\n",
       "        vertical-align: top;\n",
       "    }\n",
       "\n",
       "    .dataframe thead th {\n",
       "        text-align: right;\n",
       "    }\n",
       "</style>\n",
       "<table border=\"1\" class=\"dataframe\">\n",
       "  <thead>\n",
       "    <tr style=\"text-align: right;\">\n",
       "      <th></th>\n",
       "      <th>placeName</th>\n",
       "      <th>placeDesc</th>\n",
       "      <th>placeUrl</th>\n",
       "      <th>similarity</th>\n",
       "    </tr>\n",
       "  </thead>\n",
       "  <tbody>\n",
       "    <tr>\n",
       "      <th>1838</th>\n",
       "      <td>The Smile Face Museum</td>\n",
       "      <td>A shrine to the iconic yellow grin that has ac...</td>\n",
       "      <td>https://www.atlasobscura.com/places/the-smile-...</td>\n",
       "      <td>0.956718</td>\n",
       "    </tr>\n",
       "    <tr>\n",
       "      <th>5890</th>\n",
       "      <td>Batu Caves</td>\n",
       "      <td>During Thaipusam, an annual celebration of the...</td>\n",
       "      <td>https://www.atlasobscura.com/places/batu-caves</td>\n",
       "      <td>0.682063</td>\n",
       "    </tr>\n",
       "    <tr>\n",
       "      <th>4026</th>\n",
       "      <td>Skull Rack of the Great Temple</td>\n",
       "      <td>At the ruins of the Great Temple (Templo Mayor...</td>\n",
       "      <td>https://www.atlasobscura.com/places/skull-rack...</td>\n",
       "      <td>0.668034</td>\n",
       "    </tr>\n",
       "    <tr>\n",
       "      <th>420</th>\n",
       "      <td>Fantasy Dining Alice in a Labyrinth</td>\n",
       "      <td>This place is much more than a restaurant. It’...</td>\n",
       "      <td>https://www.atlasobscura.com/places/alice-wond...</td>\n",
       "      <td>0.663290</td>\n",
       "    </tr>\n",
       "    <tr>\n",
       "      <th>2315</th>\n",
       "      <td>Temple of Valadier</td>\n",
       "      <td>Sitting just inside the tall mouth of an Itali...</td>\n",
       "      <td>https://www.atlasobscura.com/places/temple-of-...</td>\n",
       "      <td>0.648339</td>\n",
       "    </tr>\n",
       "  </tbody>\n",
       "</table>\n",
       "</div>"
      ],
      "text/plain": [
       "                                placeName  \\\n",
       "1838                The Smile Face Museum   \n",
       "5890                           Batu Caves   \n",
       "4026       Skull Rack of the Great Temple   \n",
       "420   Fantasy Dining Alice in a Labyrinth   \n",
       "2315                   Temple of Valadier   \n",
       "\n",
       "                                              placeDesc  \\\n",
       "1838  A shrine to the iconic yellow grin that has ac...   \n",
       "5890  During Thaipusam, an annual celebration of the...   \n",
       "4026  At the ruins of the Great Temple (Templo Mayor...   \n",
       "420   This place is much more than a restaurant. It’...   \n",
       "2315  Sitting just inside the tall mouth of an Itali...   \n",
       "\n",
       "                                               placeUrl  similarity  \n",
       "1838  https://www.atlasobscura.com/places/the-smile-...    0.956718  \n",
       "5890     https://www.atlasobscura.com/places/batu-caves    0.682063  \n",
       "4026  https://www.atlasobscura.com/places/skull-rack...    0.668034  \n",
       "420   https://www.atlasobscura.com/places/alice-wond...    0.663290  \n",
       "2315  https://www.atlasobscura.com/places/temple-of-...    0.648339  "
      ]
     },
     "execution_count": 16,
     "metadata": {},
     "output_type": "execute_result"
    }
   ],
   "source": [
    "simEngine.search(query='yellow grin iconic good shrine that has acted as a symbol', k=5)"
   ]
  },
  {
   "cell_type": "markdown",
   "metadata": {
    "cell_id": "171b331d20c34c17894c9fd91a8626ac",
    "deepnote_cell_type": "markdown",
    "tags": []
   },
   "source": [
    "A very specific query:"
   ]
  },
  {
   "cell_type": "code",
   "execution_count": 17,
   "metadata": {
    "cell_id": "06734a2348e9499fac192626c92d8af0",
    "deepnote_cell_type": "code",
    "deepnote_to_be_reexecuted": false,
    "execution_millis": 3598,
    "execution_start": 1668525217446,
    "output_cleared": false,
    "source_hash": "99a4cc98",
    "tags": []
   },
   "outputs": [
    {
     "data": {
      "text/html": [
       "<div>\n",
       "<style scoped>\n",
       "    .dataframe tbody tr th:only-of-type {\n",
       "        vertical-align: middle;\n",
       "    }\n",
       "\n",
       "    .dataframe tbody tr th {\n",
       "        vertical-align: top;\n",
       "    }\n",
       "\n",
       "    .dataframe thead th {\n",
       "        text-align: right;\n",
       "    }\n",
       "</style>\n",
       "<table border=\"1\" class=\"dataframe\">\n",
       "  <thead>\n",
       "    <tr style=\"text-align: right;\">\n",
       "      <th></th>\n",
       "      <th>placeName</th>\n",
       "      <th>placeDesc</th>\n",
       "      <th>placeUrl</th>\n",
       "      <th>similarity</th>\n",
       "    </tr>\n",
       "  </thead>\n",
       "  <tbody>\n",
       "    <tr>\n",
       "      <th>2410</th>\n",
       "      <td>Prometheus Esoterica</td>\n",
       "      <td>When visitors first step into Abby Rose Vintag...</td>\n",
       "      <td>https://www.atlasobscura.com/places/prometheus...</td>\n",
       "      <td>0.998667</td>\n",
       "    </tr>\n",
       "    <tr>\n",
       "      <th>4286</th>\n",
       "      <td>Chancellor Robert R Livingston Masonic Library</td>\n",
       "      <td>With one of the largest known collections of r...</td>\n",
       "      <td>https://www.atlasobscura.com/places/chancellor...</td>\n",
       "      <td>0.429566</td>\n",
       "    </tr>\n",
       "    <tr>\n",
       "      <th>777</th>\n",
       "      <td>The Bristlecone Pines of the Great Basin</td>\n",
       "      <td>At high elevations in a region of the western ...</td>\n",
       "      <td>https://www.atlasobscura.com/places/the-bristl...</td>\n",
       "      <td>0.412539</td>\n",
       "    </tr>\n",
       "    <tr>\n",
       "      <th>2674</th>\n",
       "      <td>Crane Mansion on Castle Hill</td>\n",
       "      <td>The 1987 film “Flowers in the Attic” is based ...</td>\n",
       "      <td>https://www.atlasobscura.com/places/crane-mans...</td>\n",
       "      <td>0.397971</td>\n",
       "    </tr>\n",
       "    <tr>\n",
       "      <th>6743</th>\n",
       "      <td>Prometheus Tree Stump</td>\n",
       "      <td>Sitting among a small copse of pine trees on N...</td>\n",
       "      <td>https://www.atlasobscura.com/places/prometheus...</td>\n",
       "      <td>0.397940</td>\n",
       "    </tr>\n",
       "  </tbody>\n",
       "</table>\n",
       "</div>"
      ],
      "text/plain": [
       "                                           placeName  \\\n",
       "2410                            Prometheus Esoterica   \n",
       "4286  Chancellor Robert R Livingston Masonic Library   \n",
       "777         The Bristlecone Pines of the Great Basin   \n",
       "2674                    Crane Mansion on Castle Hill   \n",
       "6743                           Prometheus Tree Stump   \n",
       "\n",
       "                                              placeDesc  \\\n",
       "2410  When visitors first step into Abby Rose Vintag...   \n",
       "4286  With one of the largest known collections of r...   \n",
       "777   At high elevations in a region of the western ...   \n",
       "2674  The 1987 film “Flowers in the Attic” is based ...   \n",
       "6743  Sitting among a small copse of pine trees on N...   \n",
       "\n",
       "                                               placeUrl  similarity  \n",
       "2410  https://www.atlasobscura.com/places/prometheus...    0.998667  \n",
       "4286  https://www.atlasobscura.com/places/chancellor...    0.429566  \n",
       "777   https://www.atlasobscura.com/places/the-bristl...    0.412539  \n",
       "2674  https://www.atlasobscura.com/places/crane-mans...    0.397971  \n",
       "6743  https://www.atlasobscura.com/places/prometheus...    0.397940  "
      ]
     },
     "execution_count": 17,
     "metadata": {},
     "output_type": "execute_result"
    }
   ],
   "source": [
    "simEngine.search(query='When visitors first step into Abby Rose Vintage shop, it appears to be just another store to peruse classic objects such as fine china, soaps, and beautiful vintage art.\\nHowever, a few steps into a dimly lit back room and visitors are met by grinning skeletons, macabre antiques, and esoteric books. This is Prometheus Esoterica, Winter Park’s own little oddity shop and gothic boutique. Whether you are shopping for taxidermy needs or looking to add some herbs to your apothecary, Prometheus Esoterica is a must-stop for anyone passing through the Orlando area.', k=5)"
   ]
  },
  {
   "cell_type": "markdown",
   "metadata": {
    "cell_id": "545674f3fa1b4be4a9a4df760ce5d7bd",
    "deepnote_cell_type": "markdown",
    "tags": []
   },
   "source": [
    "### Visualize vector documents and queries"
   ]
  },
  {
   "cell_type": "code",
   "execution_count": 20,
   "metadata": {
    "cell_id": "d8c51ea01dea4163890dffe7d0df1032",
    "deepnote_cell_type": "code",
    "deepnote_to_be_reexecuted": false,
    "execution_millis": 188,
    "execution_start": 1668525220856,
    "output_cleared": false,
    "source_hash": "873d0050",
    "tags": []
   },
   "outputs": [
    {
     "data": {
      "text/plain": [
       "0.999999999999984"
      ]
     },
     "execution_count": 20,
     "metadata": {},
     "output_type": "execute_result"
    }
   ],
   "source": [
    "SimilarityEngine.cosine_sim(np.array([1.04362486, 0.7829764]), np.array([0.00970814, 0.0072835 ]))"
   ]
  },
  {
   "cell_type": "markdown",
   "metadata": {
    "cell_id": "132a2b6b1d304630b47d273039ad908c",
    "deepnote_cell_type": "markdown",
    "tags": []
   },
   "source": [
    "The cosine similarity computes the angle bewteen two vectors. A result of 1 means that their angle is 0, and the vectors are as similar as they can be, a result of 0 means that their angle is 90 and the vectors are as diverse as they can be.\n",
    "\n",
    "![Cosine similarity](images/cosine-similarity.png)"
   ]
  },
  {
   "cell_type": "code",
   "execution_count": 21,
   "metadata": {
    "cell_id": "0f0a3a71ae8b45b6950f3026caa0b9c8",
    "deepnote_cell_type": "code",
    "deepnote_to_be_reexecuted": false,
    "execution_millis": 808,
    "execution_start": 1668525220893,
    "output_cleared": false,
    "source_hash": "f59465dd",
    "tags": []
   },
   "outputs": [
    {
     "data": {
      "text/plain": [
       "Text(0.5, 1.0, '\"castle cemetery\" query vs Nearest Documents')"
      ]
     },
     "execution_count": 21,
     "metadata": {},
     "output_type": "execute_result"
    },
    {
     "data": {
      "image/png": "[encoded data removed]",
      "text/plain": [
       "<Figure size 600x600 with 1 Axes>"
      ]
     },
     "metadata": {},
     "output_type": "display_data"
    }
   ],
   "source": [
    "v = simEngine.similar_vectors('castle cemetery', k=9)\n",
    "p = np.vstack(list(v.values()))\n",
    "plt.figure(figsize=(6,6))\n",
    "plt.quiver(np.zeros(p.shape[0]-1), np.zeros(p.shape[0]-1),\n",
    "    p[:-1,0],\n",
    "    p[:-1,1],\n",
    "    angles='xy', scale_units='xy', scale=1, color=[plt.get_cmap('Accent')(i) for i in range(p.shape[0])]\n",
    ")\n",
    "plt.plot([0,v['QUERY'][0]*10], [0,v['QUERY'][1]*10], label='query')\n",
    "plt.legend()\n",
    "s = set()\n",
    "for d, vec in v.items():\n",
    "    if round(vec[0],3) not in s:\n",
    "        s.add(round(vec[0],3))\n",
    "        plt.annotate(d, vec)\n",
    "plt.ylim(0,1)\n",
    "plt.xlim(0,1)\n",
    "plt.ylabel('Castle')\n",
    "plt.xlabel('Cemetery')\n",
    "plt.title('\"castle cemetery\" query vs Nearest Documents')"
   ]
  },
  {
   "cell_type": "markdown",
   "metadata": {
    "cell_id": "fc4e1b8e52f846c0bc671f72505e2e8d",
    "deepnote_cell_type": "markdown",
    "tags": []
   },
   "source": [
    "### Evaluation of queries\n",
    "Now that we have our personal Search Engine we want to evaluate how good it is. In order to do this we use some specifics metrics. Let $R_q$ be the set of the $k$ relevant items for the query $q \\in Q$, and let $S_q$ be the $k$ top results of our algorithm:\n",
    "- **Top-K Accuracy**: is at least one relevant item in the results? $\\frac{|\\{ S_q :  S_q \\cap R_q \\neq \\emptyset \\ , \\ \\forall q \\in Q \\}|}{|Q|}$\n",
    "- **Precision@K**: How many relevant items are in the first $k$ results $\\frac{|\\{S_q \\cap R_q \\}|}{k}$\n",
    "- **Recall@K**: How many relevant items are in our results over all the relevant items for that query? $\\frac{|\\{S_q \\cap R_q \\}|}{|R_q|}$\n",
    "- **K-Relevance**: How far do we have to go before finding the first $k$ relevant items? $\\ \\ j : \\ \\  R_q[0:k] \\in S_q[0:j]$\n",
    "- **Mean Average Precision**: $\\frac{1}{|R_q|} \\sum_{k=1}^{N} \\text{Precision@k}(k)$\n",
    "\n",
    "Sources: [StackExchange](https://stats.stackexchange.com/questions/159657/metrics-for-evaluating-ranking-algorithms), [Medium Article](https://towardsdatascience.com/ranking-evaluation-metrics-for-recommender-systems-263d0a66ef54)"
   ]
  },
  {
   "cell_type": "markdown",
   "metadata": {
    "cell_id": "e605d0666292401e9aa466442e5a2805",
    "deepnote_cell_type": "markdown",
    "tags": []
   },
   "source": [
    "We first have to retrieve some queries to confront out own queries with. For this reason we execute 3000 random queries to the Atlas Obscura website, and then we retrieve their results. We'll consider the items in retrieved by the Atlas Obscura queries as \"Relevant\" to that query. "
   ]
  },
  {
   "cell_type": "markdown",
   "metadata": {},
   "source": [
    "First we randomly generate some queries, and then we proceed in the scraping of the web pages, similarly to what we have done in 1.1 and 1.2:"
   ]
  },
  {
   "cell_type": "code",
   "execution_count": 22,
   "metadata": {
    "cell_id": "bbda45536aed407a8e2fd58f725c14d1",
    "deepnote_cell_type": "code",
    "deepnote_to_be_reexecuted": false,
    "execution_millis": 3,
    "execution_start": 1668525221701,
    "output_cleared": true,
    "source_hash": "78db8a8d",
    "tags": []
   },
   "outputs": [],
   "source": [
    "from func.scraper import generate_queries\n",
    "\n",
    "if not os.path.exists('queries/queries.txt'): \n",
    "    os.makedirs('queries', exist_ok=True)\n",
    "    queries = generate_queries(data.placeDesc)\n",
    "\n",
    "    with open('queries/queries.txt', 'w') as out:\n",
    "        out.write('\\n'.join(queries))\n",
    "\n",
    "    download_pages(\n",
    "        src=[f'https://www.atlasobscura.com/search?q={query.replace(\" \", \"%20\")}&kind=keyword' for query in queries], \n",
    "        base_dir='queries',\n",
    "        naming=lambda i: f'query_{i}',\n",
    "        end=len(queries)+1,\n",
    "        sleep=0.5,\n",
    "        verbose=True)"
   ]
  },
  {
   "cell_type": "code",
   "execution_count": 23,
   "metadata": {
    "cell_id": "00ea2d94533141a2863e21372bb6808a",
    "deepnote_cell_type": "code",
    "deepnote_table_loading": false,
    "deepnote_table_state": {
     "filters": [],
     "pageIndex": 1,
     "pageSize": 10,
     "sortBy": []
    },
    "deepnote_to_be_reexecuted": false,
    "execution_millis": 1,
    "execution_start": 1668525221714,
    "output_cleared": true,
    "source_hash": "b8987d00",
    "tags": []
   },
   "outputs": [],
   "source": [
    "if not os.path.exists('queries.csv'):\n",
    "    query_df = pd.DataFrame(columns=['query', *range(0,15)])\n",
    "    for i, query in enumerate(queries[3000], start=1):\n",
    "        if not os.path.exists(f'queries/query_{i}.html'):\n",
    "            continue\n",
    "        with open(f'queries/query_{i}.html', 'r') as f:\n",
    "            html = BeautifulSoup(f, features=\"lxml\")\n",
    "            res = ['https://www.atlasobscura.com'+card.attrs['href'] for card in html.find_all('a' , class_='content-card-place')]\n",
    "            query_df.loc[i] = [query ,*res, *['NA']*(15-len(res))]\n",
    "\n",
    "    query_df.to_csv('queries.csv', index=False)"
   ]
  },
  {
   "cell_type": "markdown",
   "metadata": {},
   "source": [
    "These are some of the generated queries, each row contains the query and the first 15 results (if they exist):"
   ]
  },
  {
   "cell_type": "code",
   "execution_count": 24,
   "metadata": {
    "cell_id": "bc987e8385194344a26b170402ef69f8",
    "deepnote_cell_type": "code",
    "deepnote_to_be_reexecuted": false,
    "execution_millis": 98,
    "execution_start": 1668525221716,
    "output_cleared": false,
    "source_hash": "c5f061a6",
    "tags": []
   },
   "outputs": [
    {
     "data": {
      "text/html": [
       "<div>\n",
       "<style scoped>\n",
       "    .dataframe tbody tr th:only-of-type {\n",
       "        vertical-align: middle;\n",
       "    }\n",
       "\n",
       "    .dataframe tbody tr th {\n",
       "        vertical-align: top;\n",
       "    }\n",
       "\n",
       "    .dataframe thead th {\n",
       "        text-align: right;\n",
       "    }\n",
       "</style>\n",
       "<table border=\"1\" class=\"dataframe\">\n",
       "  <thead>\n",
       "    <tr style=\"text-align: right;\">\n",
       "      <th></th>\n",
       "      <th>query</th>\n",
       "      <th>0</th>\n",
       "      <th>1</th>\n",
       "      <th>2</th>\n",
       "      <th>3</th>\n",
       "      <th>4</th>\n",
       "      <th>5</th>\n",
       "      <th>6</th>\n",
       "      <th>7</th>\n",
       "      <th>8</th>\n",
       "      <th>9</th>\n",
       "      <th>10</th>\n",
       "      <th>11</th>\n",
       "      <th>12</th>\n",
       "      <th>13</th>\n",
       "      <th>14</th>\n",
       "    </tr>\n",
       "  </thead>\n",
       "  <tbody>\n",
       "    <tr>\n",
       "      <th>0</th>\n",
       "      <td>architectural vaulted station</td>\n",
       "      <td>https://www.atlasobscura.com/places/city-hall-...</td>\n",
       "      <td>https://www.atlasobscura.com/places/vanderbilt...</td>\n",
       "      <td>https://www.atlasobscura.com/places/templo-de-...</td>\n",
       "      <td>NaN</td>\n",
       "      <td>NaN</td>\n",
       "      <td>NaN</td>\n",
       "      <td>NaN</td>\n",
       "      <td>NaN</td>\n",
       "      <td>NaN</td>\n",
       "      <td>NaN</td>\n",
       "      <td>NaN</td>\n",
       "      <td>NaN</td>\n",
       "      <td>NaN</td>\n",
       "      <td>NaN</td>\n",
       "      <td>NaN</td>\n",
       "    </tr>\n",
       "    <tr>\n",
       "      <th>1</th>\n",
       "      <td>large specially express</td>\n",
       "      <td>https://www.atlasobscura.com/places/city-hall-...</td>\n",
       "      <td>https://www.atlasobscura.com/places/gate-tower...</td>\n",
       "      <td>https://www.atlasobscura.com/places/haymarket-...</td>\n",
       "      <td>https://www.atlasobscura.com/places/michelange...</td>\n",
       "      <td>https://www.atlasobscura.com/places/green-rive...</td>\n",
       "      <td>https://www.atlasobscura.com/places/camp-atter...</td>\n",
       "      <td>https://www.atlasobscura.com/places/prince-dem...</td>\n",
       "      <td>https://www.atlasobscura.com/places/cocodrilo-...</td>\n",
       "      <td>https://www.atlasobscura.com/places/karlag-mem...</td>\n",
       "      <td>NaN</td>\n",
       "      <td>NaN</td>\n",
       "      <td>NaN</td>\n",
       "      <td>NaN</td>\n",
       "      <td>NaN</td>\n",
       "      <td>NaN</td>\n",
       "    </tr>\n",
       "    <tr>\n",
       "      <th>2</th>\n",
       "      <td>intended ceilings</td>\n",
       "      <td>https://www.atlasobscura.com/places/city-hall-...</td>\n",
       "      <td>https://www.atlasobscura.com/places/haint-blue...</td>\n",
       "      <td>https://www.atlasobscura.com/places/church-of-...</td>\n",
       "      <td>https://www.atlasobscura.com/places/naniboujou...</td>\n",
       "      <td>https://www.atlasobscura.com/places/belcourt-c...</td>\n",
       "      <td>https://www.atlasobscura.com/places/roman-cist...</td>\n",
       "      <td>https://www.atlasobscura.com/places/la-cruceci...</td>\n",
       "      <td>NaN</td>\n",
       "      <td>NaN</td>\n",
       "      <td>NaN</td>\n",
       "      <td>NaN</td>\n",
       "      <td>NaN</td>\n",
       "      <td>NaN</td>\n",
       "      <td>NaN</td>\n",
       "      <td>NaN</td>\n",
       "    </tr>\n",
       "    <tr>\n",
       "      <th>3</th>\n",
       "      <td>manchester however</td>\n",
       "      <td>https://www.atlasobscura.com/places/highgate-c...</td>\n",
       "      <td>https://www.atlasobscura.com/places/cat-alley</td>\n",
       "      <td>https://www.atlasobscura.com/places/soviet-eng...</td>\n",
       "      <td>https://www.atlasobscura.com/places/the-new-ma...</td>\n",
       "      <td>https://www.atlasobscura.com/places/victoria-b...</td>\n",
       "      <td>https://www.atlasobscura.com/places/out-house</td>\n",
       "      <td>https://www.atlasobscura.com/places/bubblegum-...</td>\n",
       "      <td>https://www.atlasobscura.com/places/victoria-a...</td>\n",
       "      <td>https://www.atlasobscura.com/places/holden-woo...</td>\n",
       "      <td>https://www.atlasobscura.com/places/the-union-...</td>\n",
       "      <td>https://www.atlasobscura.com/places/st-michael...</td>\n",
       "      <td>https://www.atlasobscura.com/places/statue-of-...</td>\n",
       "      <td>https://www.atlasobscura.com/places/dovedale-s...</td>\n",
       "      <td>https://www.atlasobscura.com/places/locomotive...</td>\n",
       "      <td>https://www.atlasobscura.com/places/the-snowman</td>\n",
       "    </tr>\n",
       "    <tr>\n",
       "      <th>4</th>\n",
       "      <td>regenerated claimed headless</td>\n",
       "      <td>https://www.atlasobscura.com/places/highgate-c...</td>\n",
       "      <td>NaN</td>\n",
       "      <td>NaN</td>\n",
       "      <td>NaN</td>\n",
       "      <td>NaN</td>\n",
       "      <td>NaN</td>\n",
       "      <td>NaN</td>\n",
       "      <td>NaN</td>\n",
       "      <td>NaN</td>\n",
       "      <td>NaN</td>\n",
       "      <td>NaN</td>\n",
       "      <td>NaN</td>\n",
       "      <td>NaN</td>\n",
       "      <td>NaN</td>\n",
       "      <td>NaN</td>\n",
       "    </tr>\n",
       "  </tbody>\n",
       "</table>\n",
       "</div>"
      ],
      "text/plain": [
       "                           query  \\\n",
       "0  architectural vaulted station   \n",
       "1        large specially express   \n",
       "2              intended ceilings   \n",
       "3             manchester however   \n",
       "4   regenerated claimed headless   \n",
       "\n",
       "                                                   0  \\\n",
       "0  https://www.atlasobscura.com/places/city-hall-...   \n",
       "1  https://www.atlasobscura.com/places/city-hall-...   \n",
       "2  https://www.atlasobscura.com/places/city-hall-...   \n",
       "3  https://www.atlasobscura.com/places/highgate-c...   \n",
       "4  https://www.atlasobscura.com/places/highgate-c...   \n",
       "\n",
       "                                                   1  \\\n",
       "0  https://www.atlasobscura.com/places/vanderbilt...   \n",
       "1  https://www.atlasobscura.com/places/gate-tower...   \n",
       "2  https://www.atlasobscura.com/places/haint-blue...   \n",
       "3      https://www.atlasobscura.com/places/cat-alley   \n",
       "4                                                NaN   \n",
       "\n",
       "                                                   2  \\\n",
       "0  https://www.atlasobscura.com/places/templo-de-...   \n",
       "1  https://www.atlasobscura.com/places/haymarket-...   \n",
       "2  https://www.atlasobscura.com/places/church-of-...   \n",
       "3  https://www.atlasobscura.com/places/soviet-eng...   \n",
       "4                                                NaN   \n",
       "\n",
       "                                                   3  \\\n",
       "0                                                NaN   \n",
       "1  https://www.atlasobscura.com/places/michelange...   \n",
       "2  https://www.atlasobscura.com/places/naniboujou...   \n",
       "3  https://www.atlasobscura.com/places/the-new-ma...   \n",
       "4                                                NaN   \n",
       "\n",
       "                                                   4  \\\n",
       "0                                                NaN   \n",
       "1  https://www.atlasobscura.com/places/green-rive...   \n",
       "2  https://www.atlasobscura.com/places/belcourt-c...   \n",
       "3  https://www.atlasobscura.com/places/victoria-b...   \n",
       "4                                                NaN   \n",
       "\n",
       "                                                   5  \\\n",
       "0                                                NaN   \n",
       "1  https://www.atlasobscura.com/places/camp-atter...   \n",
       "2  https://www.atlasobscura.com/places/roman-cist...   \n",
       "3      https://www.atlasobscura.com/places/out-house   \n",
       "4                                                NaN   \n",
       "\n",
       "                                                   6  \\\n",
       "0                                                NaN   \n",
       "1  https://www.atlasobscura.com/places/prince-dem...   \n",
       "2  https://www.atlasobscura.com/places/la-cruceci...   \n",
       "3  https://www.atlasobscura.com/places/bubblegum-...   \n",
       "4                                                NaN   \n",
       "\n",
       "                                                   7  \\\n",
       "0                                                NaN   \n",
       "1  https://www.atlasobscura.com/places/cocodrilo-...   \n",
       "2                                                NaN   \n",
       "3  https://www.atlasobscura.com/places/victoria-a...   \n",
       "4                                                NaN   \n",
       "\n",
       "                                                   8  \\\n",
       "0                                                NaN   \n",
       "1  https://www.atlasobscura.com/places/karlag-mem...   \n",
       "2                                                NaN   \n",
       "3  https://www.atlasobscura.com/places/holden-woo...   \n",
       "4                                                NaN   \n",
       "\n",
       "                                                   9  \\\n",
       "0                                                NaN   \n",
       "1                                                NaN   \n",
       "2                                                NaN   \n",
       "3  https://www.atlasobscura.com/places/the-union-...   \n",
       "4                                                NaN   \n",
       "\n",
       "                                                  10  \\\n",
       "0                                                NaN   \n",
       "1                                                NaN   \n",
       "2                                                NaN   \n",
       "3  https://www.atlasobscura.com/places/st-michael...   \n",
       "4                                                NaN   \n",
       "\n",
       "                                                  11  \\\n",
       "0                                                NaN   \n",
       "1                                                NaN   \n",
       "2                                                NaN   \n",
       "3  https://www.atlasobscura.com/places/statue-of-...   \n",
       "4                                                NaN   \n",
       "\n",
       "                                                  12  \\\n",
       "0                                                NaN   \n",
       "1                                                NaN   \n",
       "2                                                NaN   \n",
       "3  https://www.atlasobscura.com/places/dovedale-s...   \n",
       "4                                                NaN   \n",
       "\n",
       "                                                  13  \\\n",
       "0                                                NaN   \n",
       "1                                                NaN   \n",
       "2                                                NaN   \n",
       "3  https://www.atlasobscura.com/places/locomotive...   \n",
       "4                                                NaN   \n",
       "\n",
       "                                                14  \n",
       "0                                              NaN  \n",
       "1                                              NaN  \n",
       "2                                              NaN  \n",
       "3  https://www.atlasobscura.com/places/the-snowman  \n",
       "4                                              NaN  "
      ]
     },
     "execution_count": 24,
     "metadata": {},
     "output_type": "execute_result"
    }
   ],
   "source": [
    "query_df = pd.read_csv('queries.csv')\n",
    "query_df.head()"
   ]
  },
  {
   "cell_type": "code",
   "execution_count": 28,
   "metadata": {
    "cell_id": "b748dbb7cf854bdebb88f4bdd3c0b5f5",
    "deepnote_cell_type": "code",
    "deepnote_to_be_reexecuted": false,
    "execution_millis": 277,
    "execution_start": 1668525221820,
    "output_cleared": false,
    "source_hash": "f11bb936",
    "tags": []
   },
   "outputs": [
    {
     "name": "stdout",
     "output_type": "stream",
     "text": [
      "fire welcome\n"
     ]
    },
    {
     "data": {
      "text/plain": [
       "{'Top-k Accuracy': True,\n",
       " 'Precision@k': 0.4,\n",
       " 'Mean Average Precision': 0.2978728678728679,\n",
       " 'Recall@k': 0.42857142857142855,\n",
       " 'K-Relevance': 709}"
      ]
     },
     "execution_count": 28,
     "metadata": {},
     "output_type": "execute_result"
    }
   ],
   "source": [
    "from func.metrics import score_metrics, evaluate_engine\n",
    "\n",
    "query, *y = query_df.sample().iloc[0]\n",
    "print(query)\n",
    "score_metrics(query, y, simEngine)"
   ]
  },
  {
   "cell_type": "code",
   "execution_count": 36,
   "metadata": {
    "cell_id": "2cf62a9fdaa04e4797462e8ec13e2b2f",
    "deepnote_cell_type": "code",
    "deepnote_to_be_reexecuted": false,
    "execution_millis": 560198,
    "execution_start": 1668525222034,
    "output_cleared": false,
    "source_hash": "1a953b2c",
    "tags": []
   },
   "outputs": [
    {
     "name": "stdout",
     "output_type": "stream",
     "text": [
      "Simple Engine:\n",
      "Top-k Accuracy                 0.948\n",
      "Precision@k                    0.211\n",
      "Mean Average Precision         0.345\n",
      "Recall@k                       0.837\n",
      "K-Relevance                    22.875\n",
      "\n",
      "Similarity Engine: \n",
      "Top-k Accuracy                 0.852\n",
      "Precision@k                    0.146\n",
      "Mean Average Precision         0.231\n",
      "Recall@k                       0.626\n",
      "K-Relevance                    146.952\n"
     ]
    }
   ],
   "source": [
    "print(\"Simple Engine:\")\n",
    "evaluate_engine(query_df, simpleEngine)\n",
    "print(\"\\nSimilarity Engine: \")\n",
    "evaluate_engine(query_df, simEngine)"
   ]
  },
  {
   "cell_type": "markdown",
   "metadata": {},
   "source": [
    "We observe that our scores are quite low and unsatisfying, this might be fault of our Search Engine as it may have different priorities than the default Atlas Obscura engine, or might be wrong to consider the Atlas Obscura results as the desired ones. "
   ]
  },
  {
   "cell_type": "markdown",
   "metadata": {
    "cell_id": "7887ddf1be1e437b96c1716f52256160",
    "deepnote_cell_type": "markdown",
    "tags": []
   },
   "source": [
    "## 3. Define a new score!"
   ]
  },
  {
   "cell_type": "markdown",
   "metadata": {
    "cell_id": "27a53c23df294533ae75a2176b8f6374",
    "deepnote_cell_type": "markdown",
    "tags": []
   },
   "source": [
    "Rank by:\n",
    "- **Importance**: a measure of popularity\n",
    "- **Time**: nearest to a certain date\n",
    "- **Location**: nearest to some coordinates"
   ]
  },
  {
   "cell_type": "markdown",
   "metadata": {
    "cell_id": "9c5e34fc934b4cbaa2bc79b6b93b542c",
    "deepnote_cell_type": "markdown",
    "tags": []
   },
   "source": [
    "Some results are to be considered more important than others, as they're more popular. We want to define the **Importance** metric as measure of this popularity, and we try to achieve this as a linear combination of \n",
    "- `numPeopleVisited`, \n",
    "- `numPeopleWant`, \n",
    "- `number of editors`, \n",
    "- `number of Lists`\n",
    "As this factors may indicate that a certain document is more popular than others.\n",
    "\n",
    "We plot the relationships between this metrics, trying to visualize what is _importance_ :"
   ]
  },
  {
   "cell_type": "code",
   "execution_count": 37,
   "metadata": {
    "cell_id": "c90b6bfe0397463fb5bc938014f0cfea",
    "deepnote_cell_type": "code",
    "deepnote_to_be_reexecuted": false,
    "execution_millis": 3345,
    "execution_start": 1668525782232,
    "output_cleared": false,
    "source_hash": "9f602558",
    "tags": []
   },
   "outputs": [
    {
     "data": {
      "image/png": "[encoded data removed]",
      "text/plain": [
       "<Figure size 1000x1000 with 20 Axes>"
      ]
     },
     "metadata": {},
     "output_type": "display_data"
    }
   ],
   "source": [
    "data['editors_score'] = data['placeEditors'].apply(lambda x: len(eval(x)))\n",
    "data['related_score'] = data['placeRelatedLists'].apply(lambda x : len(eval(x)) if x is not np.nan else 0)\n",
    "data['wants_score'] = np.log(data.numPeopleWant + 1)* 2\n",
    "data['visited_score'] = np.log(data.numPeopleVisited + 1) * 2\n",
    "\n",
    "sns.pairplot(\n",
    "    data,\n",
    "    vars = ['editors_score', 'related_score', 'wants_score', 'visited_score'],\n",
    "    kind='hist',\n",
    "    diag_kind='hist',\n",
    "    plot_kws={'binwidth':1},\n",
    "    diag_kws={'binwidth':1})\n",
    "plt.show()"
   ]
  },
  {
   "cell_type": "markdown",
   "metadata": {
    "cell_id": "b4f0d7b3a56a475f82e1f630d7353b3b",
    "deepnote_cell_type": "markdown",
    "tags": []
   },
   "source": [
    "The variables looks correlated enough, except from `related_score`. We will combine the `importance` score with the similarity score, such as:\n",
    "$$\n",
    "    score_\\rho(q,d) = \\rho \\cdot similarity(q,d) + (1 - \\rho) \\cdot  importance(d)\n",
    "$$"
   ]
  },
  {
   "cell_type": "code",
   "execution_count": 38,
   "metadata": {
    "cell_id": "4fc870df1f9b40a18cec7f1de159d6f0",
    "deepnote_cell_type": "code",
    "deepnote_to_be_reexecuted": false,
    "execution_millis": 60175,
    "execution_start": 1668525784897,
    "output_cleared": false,
    "source_hash": "3bb89aba",
    "tags": []
   },
   "outputs": [
    {
     "data": {
      "text/plain": [
       "<func.engines.RankEngine at 0x7f49fdfe9300>"
      ]
     },
     "execution_count": 38,
     "metadata": {},
     "output_type": "execute_result"
    }
   ],
   "source": [
    "from func.engines import RankEngine\n",
    "\n",
    "rankEngine = RankEngine(data, ['placeName', 'placeDesc', 'placeUrl'])\n",
    "rankEngine.fit(['placeDesc'])"
   ]
  },
  {
   "cell_type": "markdown",
   "metadata": {
    "cell_id": "22469a4906fa42b4827cf646b34fa58c",
    "deepnote_cell_type": "text-cell-p",
    "formattedRanges": [
     {
      "fromCodePoint": 75,
      "marks": {
       "bold": true
      },
      "toCodePoint": 85,
      "type": "marks"
     }
    ],
    "is_collapsed": false,
    "tags": []
   },
   "source": [
    "We can now finally test our new ranking engine, you can search and rank by importance:"
   ]
  },
  {
   "cell_type": "code",
   "execution_count": 39,
   "metadata": {
    "cell_id": "9aa934befd9d4b8a9329bc74aa8e7686",
    "deepnote_cell_type": "code",
    "deepnote_to_be_reexecuted": false,
    "execution_millis": 509,
    "execution_start": 1668525844563,
    "output_cleared": false,
    "source_hash": "54cd67d8",
    "tags": []
   },
   "outputs": [
    {
     "data": {
      "text/html": [
       "<div>\n",
       "<style scoped>\n",
       "    .dataframe tbody tr th:only-of-type {\n",
       "        vertical-align: middle;\n",
       "    }\n",
       "\n",
       "    .dataframe tbody tr th {\n",
       "        vertical-align: top;\n",
       "    }\n",
       "\n",
       "    .dataframe thead th {\n",
       "        text-align: right;\n",
       "    }\n",
       "</style>\n",
       "<table border=\"1\" class=\"dataframe\">\n",
       "  <thead>\n",
       "    <tr style=\"text-align: right;\">\n",
       "      <th></th>\n",
       "      <th>placeName</th>\n",
       "      <th>placeDesc</th>\n",
       "      <th>placeUrl</th>\n",
       "      <th>score</th>\n",
       "    </tr>\n",
       "  </thead>\n",
       "  <tbody>\n",
       "    <tr>\n",
       "      <th>1</th>\n",
       "      <td>Highgate Cemetery</td>\n",
       "      <td>Opened in 1839, Highgate is one of London’s mo...</td>\n",
       "      <td>https://www.atlasobscura.com/places/highgate-c...</td>\n",
       "      <td>0.875716</td>\n",
       "    </tr>\n",
       "    <tr>\n",
       "      <th>2964</th>\n",
       "      <td>World's Largest Potted Plant</td>\n",
       "      <td>At the heart of the west side of Highgate Ceme...</td>\n",
       "      <td>https://www.atlasobscura.com/places/worlds-lar...</td>\n",
       "      <td>0.682532</td>\n",
       "    </tr>\n",
       "    <tr>\n",
       "      <th>1108</th>\n",
       "      <td>Tower Hamlets Cemetery Park</td>\n",
       "      <td>Built as one of London’s “Magnificent Seven” V...</td>\n",
       "      <td>https://www.atlasobscura.com/places/tower-haml...</td>\n",
       "      <td>0.603744</td>\n",
       "    </tr>\n",
       "    <tr>\n",
       "      <th>2</th>\n",
       "      <td>Leadenhall Market</td>\n",
       "      <td>The ornate 19th-century painted roof and cobbl...</td>\n",
       "      <td>https://www.atlasobscura.com/places/leadenhall...</td>\n",
       "      <td>0.583531</td>\n",
       "    </tr>\n",
       "    <tr>\n",
       "      <th>170</th>\n",
       "      <td>Kensal Green Cemetery and Catacombs</td>\n",
       "      <td>Kensal Green is the one of the oldest public b...</td>\n",
       "      <td>https://www.atlasobscura.com/places/kensal-gre...</td>\n",
       "      <td>0.582557</td>\n",
       "    </tr>\n",
       "  </tbody>\n",
       "</table>\n",
       "</div>"
      ],
      "text/plain": [
       "                                placeName  \\\n",
       "1                       Highgate Cemetery   \n",
       "2964         World's Largest Potted Plant   \n",
       "1108          Tower Hamlets Cemetery Park   \n",
       "2                       Leadenhall Market   \n",
       "170   Kensal Green Cemetery and Catacombs   \n",
       "\n",
       "                                              placeDesc  \\\n",
       "1     Opened in 1839, Highgate is one of London’s mo...   \n",
       "2964  At the heart of the west side of Highgate Ceme...   \n",
       "1108  Built as one of London’s “Magnificent Seven” V...   \n",
       "2     The ornate 19th-century painted roof and cobbl...   \n",
       "170   Kensal Green is the one of the oldest public b...   \n",
       "\n",
       "                                               placeUrl     score  \n",
       "1     https://www.atlasobscura.com/places/highgate-c...  0.875716  \n",
       "2964  https://www.atlasobscura.com/places/worlds-lar...  0.682532  \n",
       "1108  https://www.atlasobscura.com/places/tower-haml...  0.603744  \n",
       "2     https://www.atlasobscura.com/places/leadenhall...  0.583531  \n",
       "170   https://www.atlasobscura.com/places/kensal-gre...  0.582557  "
      ]
     },
     "execution_count": 39,
     "metadata": {},
     "output_type": "execute_result"
    }
   ],
   "source": [
    "rankEngine.search('cemetery london highgate', k = 5)"
   ]
  },
  {
   "cell_type": "markdown",
   "metadata": {
    "cell_id": "002da20b3549449fbdc29ec6f2a862fb",
    "deepnote_cell_type": "markdown",
    "tags": []
   },
   "source": [
    "You can search and rank by **location**:"
   ]
  },
  {
   "cell_type": "code",
   "execution_count": 40,
   "metadata": {
    "cell_id": "e5cb82b7cacb4593b9ae4f3542b49fb4",
    "deepnote_cell_type": "code",
    "deepnote_to_be_reexecuted": false,
    "execution_millis": 283,
    "execution_start": 1668525844831,
    "output_cleared": false,
    "source_hash": "6287c24a",
    "tags": []
   },
   "outputs": [
    {
     "data": {
      "text/html": [
       "<div>\n",
       "<style scoped>\n",
       "    .dataframe tbody tr th:only-of-type {\n",
       "        vertical-align: middle;\n",
       "    }\n",
       "\n",
       "    .dataframe tbody tr th {\n",
       "        vertical-align: top;\n",
       "    }\n",
       "\n",
       "    .dataframe thead th {\n",
       "        text-align: right;\n",
       "    }\n",
       "</style>\n",
       "<table border=\"1\" class=\"dataframe\">\n",
       "  <thead>\n",
       "    <tr style=\"text-align: right;\">\n",
       "      <th></th>\n",
       "      <th>placeName</th>\n",
       "      <th>placeDesc</th>\n",
       "      <th>placeUrl</th>\n",
       "      <th>placeAlt</th>\n",
       "      <th>placeLng</th>\n",
       "      <th>score</th>\n",
       "    </tr>\n",
       "  </thead>\n",
       "  <tbody>\n",
       "    <tr>\n",
       "      <th>6722</th>\n",
       "      <td>Cimitero Monumentale di Staglieno</td>\n",
       "      <td>The creation of the enormous sanctuary of stat...</td>\n",
       "      <td>https://www.atlasobscura.com/places/cimitero-m...</td>\n",
       "      <td>44.4302</td>\n",
       "      <td>8.9503</td>\n",
       "      <td>0.998128</td>\n",
       "    </tr>\n",
       "    <tr>\n",
       "      <th>3956</th>\n",
       "      <td>Ospedale Psichiatrico di Volterra</td>\n",
       "      <td>Looking like something straight out of a horro...</td>\n",
       "      <td>https://www.atlasobscura.com/places/ospedale-p...</td>\n",
       "      <td>43.4000</td>\n",
       "      <td>10.8756</td>\n",
       "      <td>0.994136</td>\n",
       "    </tr>\n",
       "    <tr>\n",
       "      <th>6521</th>\n",
       "      <td>Leuk Charnel House</td>\n",
       "      <td>Beneath an unmarked cellar door in a 15th cent...</td>\n",
       "      <td>https://www.atlasobscura.com/places/leuk-charn...</td>\n",
       "      <td>46.3175</td>\n",
       "      <td>7.6346</td>\n",
       "      <td>0.993642</td>\n",
       "    </tr>\n",
       "    <tr>\n",
       "      <th>5861</th>\n",
       "      <td>Cimitero delle Porte Sante (Sacred Doors Cemet...</td>\n",
       "      <td>Tucked behind the 1,000-year-old church of San...</td>\n",
       "      <td>https://www.atlasobscura.com/places/cimitero-d...</td>\n",
       "      <td>43.7597</td>\n",
       "      <td>11.2642</td>\n",
       "      <td>0.993545</td>\n",
       "    </tr>\n",
       "    <tr>\n",
       "      <th>1053</th>\n",
       "      <td>Le Palais Idéal</td>\n",
       "      <td>From far away this palace looks like a cross b...</td>\n",
       "      <td>https://www.atlasobscura.com/places/le-palais-...</td>\n",
       "      <td>45.2563</td>\n",
       "      <td>5.0285</td>\n",
       "      <td>0.993267</td>\n",
       "    </tr>\n",
       "  </tbody>\n",
       "</table>\n",
       "</div>"
      ],
      "text/plain": [
       "                                              placeName  \\\n",
       "6722                  Cimitero Monumentale di Staglieno   \n",
       "3956                  Ospedale Psichiatrico di Volterra   \n",
       "6521                                 Leuk Charnel House   \n",
       "5861  Cimitero delle Porte Sante (Sacred Doors Cemet...   \n",
       "1053                                    Le Palais Idéal   \n",
       "\n",
       "                                              placeDesc  \\\n",
       "6722  The creation of the enormous sanctuary of stat...   \n",
       "3956  Looking like something straight out of a horro...   \n",
       "6521  Beneath an unmarked cellar door in a 15th cent...   \n",
       "5861  Tucked behind the 1,000-year-old church of San...   \n",
       "1053  From far away this palace looks like a cross b...   \n",
       "\n",
       "                                               placeUrl  placeAlt  placeLng  \\\n",
       "6722  https://www.atlasobscura.com/places/cimitero-m...   44.4302    8.9503   \n",
       "3956  https://www.atlasobscura.com/places/ospedale-p...   43.4000   10.8756   \n",
       "6521  https://www.atlasobscura.com/places/leuk-charn...   46.3175    7.6346   \n",
       "5861  https://www.atlasobscura.com/places/cimitero-d...   43.7597   11.2642   \n",
       "1053  https://www.atlasobscura.com/places/le-palais-...   45.2563    5.0285   \n",
       "\n",
       "         score  \n",
       "6722  0.998128  \n",
       "3956  0.994136  \n",
       "6521  0.993642  \n",
       "5861  0.993545  \n",
       "1053  0.993267  "
      ]
     },
     "execution_count": 40,
     "metadata": {},
     "output_type": "execute_result"
    }
   ],
   "source": [
    "rankEngine.location_search('cemetery', lat=44, lng=8, k=5)"
   ]
  },
  {
   "cell_type": "markdown",
   "metadata": {
    "cell_id": "6db01b334ba24d1889d2261a3b29b30c",
    "deepnote_cell_type": "text-cell-p",
    "formattedRanges": [
     {
      "fromCodePoint": 27,
      "marks": {
       "bold": true
      },
      "toCodePoint": 36,
      "type": "marks"
     }
    ],
    "is_collapsed": false,
    "tags": []
   },
   "source": [
    "You can search and rank by datetime (default will pick most recent):"
   ]
  },
  {
   "cell_type": "code",
   "execution_count": 41,
   "metadata": {
    "cell_id": "ed5a75f126a94f74ad27a9f4f6a6ea77",
    "deepnote_cell_type": "code",
    "deepnote_to_be_reexecuted": false,
    "execution_millis": 282,
    "execution_start": 1668525845139,
    "output_cleared": false,
    "source_hash": "5c5fc187",
    "tags": []
   },
   "outputs": [
    {
     "data": {
      "text/html": [
       "<div>\n",
       "<style scoped>\n",
       "    .dataframe tbody tr th:only-of-type {\n",
       "        vertical-align: middle;\n",
       "    }\n",
       "\n",
       "    .dataframe tbody tr th {\n",
       "        vertical-align: top;\n",
       "    }\n",
       "\n",
       "    .dataframe thead th {\n",
       "        text-align: right;\n",
       "    }\n",
       "</style>\n",
       "<table border=\"1\" class=\"dataframe\">\n",
       "  <thead>\n",
       "    <tr style=\"text-align: right;\">\n",
       "      <th></th>\n",
       "      <th>placeName</th>\n",
       "      <th>placeDesc</th>\n",
       "      <th>placeUrl</th>\n",
       "      <th>placePubDate</th>\n",
       "      <th>score</th>\n",
       "    </tr>\n",
       "  </thead>\n",
       "  <tbody>\n",
       "    <tr>\n",
       "      <th>2291</th>\n",
       "      <td>The Monroe Moosnick Medical and Science Museum</td>\n",
       "      <td>Named after a late Transylvania University che...</td>\n",
       "      <td>https://www.atlasobscura.com/places/the-monroe...</td>\n",
       "      <td>2010-09-08</td>\n",
       "      <td>0.998118</td>\n",
       "    </tr>\n",
       "    <tr>\n",
       "      <th>643</th>\n",
       "      <td>Whispering Gallery at St Paul’s Cathedral</td>\n",
       "      <td>In the walkway that circles the inside of Chri...</td>\n",
       "      <td>https://www.atlasobscura.com/places/whispering...</td>\n",
       "      <td>2010-07-26</td>\n",
       "      <td>0.996707</td>\n",
       "    </tr>\n",
       "    <tr>\n",
       "      <th>5141</th>\n",
       "      <td>The Museum of Medieval Torture</td>\n",
       "      <td>Medieval torture devices and modern human righ...</td>\n",
       "      <td>https://www.atlasobscura.com/places/the-museum...</td>\n",
       "      <td>2010-07-02</td>\n",
       "      <td>0.993884</td>\n",
       "    </tr>\n",
       "    <tr>\n",
       "      <th>623</th>\n",
       "      <td>Long Now Orrery</td>\n",
       "      <td>Inside the offices of the Long Now Foundation ...</td>\n",
       "      <td>https://www.atlasobscura.com/places/long-now-o...</td>\n",
       "      <td>2010-07-01</td>\n",
       "      <td>0.993766</td>\n",
       "    </tr>\n",
       "    <tr>\n",
       "      <th>806</th>\n",
       "      <td>Carmo Convent Ruins</td>\n",
       "      <td>“Come, ye philosophers, who cry, ‘All’s well,’...</td>\n",
       "      <td>https://www.atlasobscura.com/places/carmo-conv...</td>\n",
       "      <td>2010-06-25</td>\n",
       "      <td>0.993060</td>\n",
       "    </tr>\n",
       "  </tbody>\n",
       "</table>\n",
       "</div>"
      ],
      "text/plain": [
       "                                           placeName  \\\n",
       "2291  The Monroe Moosnick Medical and Science Museum   \n",
       "643        Whispering Gallery at St Paul’s Cathedral   \n",
       "5141                  The Museum of Medieval Torture   \n",
       "623                                  Long Now Orrery   \n",
       "806                              Carmo Convent Ruins   \n",
       "\n",
       "                                              placeDesc  \\\n",
       "2291  Named after a late Transylvania University che...   \n",
       "643   In the walkway that circles the inside of Chri...   \n",
       "5141  Medieval torture devices and modern human righ...   \n",
       "623   Inside the offices of the Long Now Foundation ...   \n",
       "806   “Come, ye philosophers, who cry, ‘All’s well,’...   \n",
       "\n",
       "                                               placeUrl placePubDate     score  \n",
       "2291  https://www.atlasobscura.com/places/the-monroe...   2010-09-08  0.998118  \n",
       "643   https://www.atlasobscura.com/places/whispering...   2010-07-26  0.996707  \n",
       "5141  https://www.atlasobscura.com/places/the-museum...   2010-07-02  0.993884  \n",
       "623   https://www.atlasobscura.com/places/long-now-o...   2010-07-01  0.993766  \n",
       "806   https://www.atlasobscura.com/places/carmo-conv...   2010-06-25  0.993060  "
      ]
     },
     "execution_count": 41,
     "metadata": {},
     "output_type": "execute_result"
    }
   ],
   "source": [
    "rankEngine.time_search('London', date=datetime(year=2010, month=8, day=23), k=5)"
   ]
  },
  {
   "cell_type": "markdown",
   "metadata": {
    "cell_id": "f0f814ac145941af8fa0a14bcb9b0c5d",
    "deepnote_cell_type": "text-cell-h3",
    "formattedRanges": [],
    "is_collapsed": false,
    "tags": []
   },
   "source": [
    "### Ranking Evaluation"
   ]
  },
  {
   "cell_type": "markdown",
   "metadata": {
    "cell_id": "ec205ee0554841f6ab08c4857daf0119",
    "deepnote_cell_type": "markdown",
    "tags": []
   },
   "source": [
    "We observe an improvement! We are confident that by tweaking a bit the values of $\\rho$ and the weights of the `importance` score, we could obtain a much better result!"
   ]
  },
  {
   "cell_type": "code",
   "execution_count": 42,
   "metadata": {
    "cell_id": "c0a01e5eb396402995b11bd7dcc8fef2",
    "deepnote_cell_type": "code",
    "deepnote_to_be_reexecuted": false,
    "execution_millis": 676367,
    "execution_start": 1668525845259,
    "output_cleared": false,
    "source_hash": "4c539241",
    "tags": []
   },
   "outputs": [
    {
     "name": "stdout",
     "output_type": "stream",
     "text": [
      "Ranking Engine evaluation:\n"
     ]
    },
    {
     "ename": "KeyboardInterrupt",
     "evalue": "",
     "output_type": "error",
     "traceback": [
      "\u001b[0;31m---------------------------------------------------------------------------\u001b[0m",
      "\u001b[0;31mKeyboardInterrupt\u001b[0m                         Traceback (most recent call last)",
      "Cell \u001b[0;32mIn [42], line 2\u001b[0m\n\u001b[1;32m      1\u001b[0m \u001b[38;5;28mprint\u001b[39m(\u001b[38;5;124m\"\u001b[39m\u001b[38;5;124mRanking Engine evaluation:\u001b[39m\u001b[38;5;124m\"\u001b[39m)\n\u001b[0;32m----> 2\u001b[0m \u001b[43mevaluate_engine\u001b[49m\u001b[43m(\u001b[49m\u001b[43mquery_df\u001b[49m\u001b[38;5;241;43m.\u001b[39;49m\u001b[43miloc\u001b[49m\u001b[43m[\u001b[49m\u001b[43m:\u001b[49m\u001b[43mN\u001b[49m\u001b[43m]\u001b[49m\u001b[43m,\u001b[49m\u001b[43m \u001b[49m\u001b[43mrankEngine\u001b[49m\u001b[43m)\u001b[49m\n",
      "File \u001b[0;32m~/Documenti/ADM/ADM3/func/metrics.py:57\u001b[0m, in \u001b[0;36mevaluate_engine\u001b[0;34m(queries, engine, score)\u001b[0m\n\u001b[1;32m     54\u001b[0m scores \u001b[38;5;241m=\u001b[39m \u001b[38;5;28;01mNone\u001b[39;00m\n\u001b[1;32m     56\u001b[0m \u001b[38;5;28;01mfor\u001b[39;00m _, (query, \u001b[38;5;241m*\u001b[39my) \u001b[38;5;129;01min\u001b[39;00m queries\u001b[38;5;241m.\u001b[39miterrows():\n\u001b[0;32m---> 57\u001b[0m     res \u001b[38;5;241m=\u001b[39m \u001b[43mscore\u001b[49m\u001b[43m(\u001b[49m\u001b[43mquery\u001b[49m\u001b[43m,\u001b[49m\u001b[43m \u001b[49m\u001b[43my\u001b[49m\u001b[43m,\u001b[49m\u001b[43m \u001b[49m\u001b[43mengine\u001b[49m\u001b[43m)\u001b[49m\n\u001b[1;32m     58\u001b[0m     \u001b[38;5;28;01mif\u001b[39;00m res \u001b[38;5;129;01mis\u001b[39;00m \u001b[38;5;28;01mNone\u001b[39;00m:\n\u001b[1;32m     59\u001b[0m         \u001b[38;5;28;01mcontinue\u001b[39;00m\n",
      "File \u001b[0;32m~/Documenti/ADM/ADM3/func/metrics.py:41\u001b[0m, in \u001b[0;36mscore_metrics\u001b[0;34m(query, y, engine)\u001b[0m\n\u001b[1;32m     39\u001b[0m \u001b[38;5;28;01mif\u001b[39;00m \u001b[38;5;28mlen\u001b[39m(y) \u001b[38;5;241m==\u001b[39m \u001b[38;5;241m0\u001b[39m:\n\u001b[1;32m     40\u001b[0m     \u001b[38;5;28;01mreturn\u001b[39;00m \u001b[38;5;28;01mNone\u001b[39;00m\n\u001b[0;32m---> 41\u001b[0m pred \u001b[38;5;241m=\u001b[39m \u001b[43mengine\u001b[49m\u001b[38;5;241;43m.\u001b[39;49m\u001b[43msearch\u001b[49m\u001b[43m(\u001b[49m\u001b[43mquery\u001b[49m\u001b[43m,\u001b[49m\u001b[43m \u001b[49m\u001b[43mk\u001b[49m\u001b[38;5;241;43m=\u001b[39;49m\u001b[38;5;241;43m1000\u001b[39;49m\u001b[43m)\u001b[49m\u001b[38;5;241m.\u001b[39mplaceUrl\u001b[38;5;241m.\u001b[39mtolist()\n\u001b[1;32m     42\u001b[0m res \u001b[38;5;241m=\u001b[39m \u001b[38;5;28mdict\u001b[39m()\n\u001b[1;32m     43\u001b[0m res[\u001b[38;5;124m'\u001b[39m\u001b[38;5;124mTop-k Accuracy\u001b[39m\u001b[38;5;124m'\u001b[39m] \u001b[38;5;241m=\u001b[39m topk_accuracy(y, pred)\n",
      "File \u001b[0;32m~/Documenti/ADM/ADM3/func/engines.py:222\u001b[0m, in \u001b[0;36mRankEngine.search\u001b[0;34m(self, query, k, columns)\u001b[0m\n\u001b[1;32m    220\u001b[0m \u001b[38;5;28;01mdef\u001b[39;00m \u001b[38;5;21msearch\u001b[39m(\u001b[38;5;28mself\u001b[39m, query, k\u001b[38;5;241m=\u001b[39m\u001b[38;5;241m10\u001b[39m, columns \u001b[38;5;241m=\u001b[39m []):\n\u001b[1;32m    221\u001b[0m     \u001b[38;5;124;03m'''Searches the query and ranks by importance'''\u001b[39;00m\n\u001b[0;32m--> 222\u001b[0m     docs_sim, _, _ \u001b[38;5;241m=\u001b[39m \u001b[38;5;28;43msuper\u001b[39;49m\u001b[43m(\u001b[49m\u001b[43m)\u001b[49m\u001b[38;5;241;43m.\u001b[39;49m\u001b[43mraw_search\u001b[49m\u001b[43m(\u001b[49m\u001b[43mquery\u001b[49m\u001b[43m)\u001b[49m\n\u001b[1;32m    223\u001b[0m     importance \u001b[38;5;241m=\u001b[39m \u001b[38;5;28mself\u001b[39m\u001b[38;5;241m.\u001b[39mdomain\u001b[38;5;241m.\u001b[39mimportance\n\u001b[1;32m    224\u001b[0m     \u001b[38;5;28;01mreturn\u001b[39;00m \u001b[38;5;28mself\u001b[39m\u001b[38;5;241m.\u001b[39mpresent(docs_sim, importance, k , columns)\n",
      "File \u001b[0;32m~/Documenti/ADM/ADM3/func/engines.py:135\u001b[0m, in \u001b[0;36mSimilarityEngine.raw_search\u001b[0;34m(self, query, k)\u001b[0m\n\u001b[1;32m    132\u001b[0m terms \u001b[38;5;241m=\u001b[39m SimilarityEngine\u001b[38;5;241m.\u001b[39mterm_frequency(query)\n\u001b[1;32m    133\u001b[0m query_vec \u001b[38;5;241m=\u001b[39m np\u001b[38;5;241m.\u001b[39marray([\u001b[38;5;28mself\u001b[39m\u001b[38;5;241m.\u001b[39midf[t] \u001b[38;5;241m*\u001b[39m tf \u001b[38;5;28;01mfor\u001b[39;00m t, tf \u001b[38;5;129;01min\u001b[39;00m terms\u001b[38;5;241m.\u001b[39mitems() ])\n\u001b[0;32m--> 135\u001b[0m doc_vec \u001b[38;5;241m=\u001b[39m \u001b[38;5;28;43mself\u001b[39;49m\u001b[38;5;241;43m.\u001b[39;49m\u001b[43mretrieve_doc_vec\u001b[49m\u001b[43m(\u001b[49m\u001b[43mterms\u001b[49m\u001b[43m)\u001b[49m\n\u001b[1;32m    137\u001b[0m docs_score \u001b[38;5;241m=\u001b[39m []\n\u001b[1;32m    138\u001b[0m \u001b[38;5;28;01mfor\u001b[39;00m doc_id, d \u001b[38;5;129;01min\u001b[39;00m doc_vec\u001b[38;5;241m.\u001b[39mitems():\n",
      "File \u001b[0;32m~/Documenti/ADM/ADM3/func/engines.py:109\u001b[0m, in \u001b[0;36mSimilarityEngine.retrieve_doc_vec\u001b[0;34m(self, terms)\u001b[0m\n\u001b[1;32m    107\u001b[0m \u001b[38;5;28;01mfor\u001b[39;00m d \u001b[38;5;129;01min\u001b[39;00m \u001b[38;5;28mself\u001b[39m\u001b[38;5;241m.\u001b[39mdomain\u001b[38;5;241m.\u001b[39mindex:\n\u001b[1;32m    108\u001b[0m     \u001b[38;5;28;01mfor\u001b[39;00m i,t \u001b[38;5;129;01min\u001b[39;00m \u001b[38;5;28menumerate\u001b[39m(terms\u001b[38;5;241m.\u001b[39mkeys()):\n\u001b[0;32m--> 109\u001b[0m         doc_vec[d][i] \u001b[38;5;241m=\u001b[39m \u001b[38;5;28;43mself\u001b[39;49m\u001b[38;5;241;43m.\u001b[39;49m\u001b[43mmatrix\u001b[49m\u001b[43m[\u001b[49m\u001b[43mt\u001b[49m\u001b[43m,\u001b[49m\u001b[43m \u001b[49m\u001b[43md\u001b[49m\u001b[43m]\u001b[49m\n\u001b[1;32m    110\u001b[0m \u001b[38;5;28;01mreturn\u001b[39;00m doc_vec\n",
      "File \u001b[0;32m~/.local/lib/python3.10/site-packages/scipy/sparse/_index.py:47\u001b[0m, in \u001b[0;36mIndexMixin.__getitem__\u001b[0;34m(self, key)\u001b[0m\n\u001b[1;32m     46\u001b[0m \u001b[38;5;28;01mdef\u001b[39;00m \u001b[38;5;21m__getitem__\u001b[39m(\u001b[38;5;28mself\u001b[39m, key):\n\u001b[0;32m---> 47\u001b[0m     row, col \u001b[38;5;241m=\u001b[39m \u001b[38;5;28;43mself\u001b[39;49m\u001b[38;5;241;43m.\u001b[39;49m\u001b[43m_validate_indices\u001b[49m\u001b[43m(\u001b[49m\u001b[43mkey\u001b[49m\u001b[43m)\u001b[49m\n\u001b[1;32m     49\u001b[0m     \u001b[38;5;66;03m# Dispatch to specialized methods.\u001b[39;00m\n\u001b[1;32m     50\u001b[0m     \u001b[38;5;28;01mif\u001b[39;00m \u001b[38;5;28misinstance\u001b[39m(row, INT_TYPES):\n",
      "File \u001b[0;32m~/.local/lib/python3.10/site-packages/scipy/sparse/_index.py:152\u001b[0m, in \u001b[0;36mIndexMixin._validate_indices\u001b[0;34m(self, key)\u001b[0m\n\u001b[1;32m    149\u001b[0m M, N \u001b[38;5;241m=\u001b[39m \u001b[38;5;28mself\u001b[39m\u001b[38;5;241m.\u001b[39mshape\n\u001b[1;32m    150\u001b[0m row, col \u001b[38;5;241m=\u001b[39m _unpack_index(key)\n\u001b[0;32m--> 152\u001b[0m \u001b[38;5;28;01mif\u001b[39;00m \u001b[43misintlike\u001b[49m\u001b[43m(\u001b[49m\u001b[43mrow\u001b[49m\u001b[43m)\u001b[49m:\n\u001b[1;32m    153\u001b[0m     row \u001b[38;5;241m=\u001b[39m \u001b[38;5;28mint\u001b[39m(row)\n\u001b[1;32m    154\u001b[0m     \u001b[38;5;28;01mif\u001b[39;00m row \u001b[38;5;241m<\u001b[39m \u001b[38;5;241m-\u001b[39mM \u001b[38;5;129;01mor\u001b[39;00m row \u001b[38;5;241m>\u001b[39m\u001b[38;5;241m=\u001b[39m M:\n",
      "File \u001b[0;32m~/.local/lib/python3.10/site-packages/scipy/sparse/_sputils.py:205\u001b[0m, in \u001b[0;36misintlike\u001b[0;34m(x)\u001b[0m\n\u001b[1;32m    200\u001b[0m \u001b[38;5;124;03m\"\"\"Is x appropriate as an index into a sparse matrix? Returns True\u001b[39;00m\n\u001b[1;32m    201\u001b[0m \u001b[38;5;124;03mif it can be cast safely to a machine int.\u001b[39;00m\n\u001b[1;32m    202\u001b[0m \u001b[38;5;124;03m\"\"\"\u001b[39;00m\n\u001b[1;32m    203\u001b[0m \u001b[38;5;66;03m# Fast-path check to eliminate non-scalar values. operator.index would\u001b[39;00m\n\u001b[1;32m    204\u001b[0m \u001b[38;5;66;03m# catch this case too, but the exception catching is slow.\u001b[39;00m\n\u001b[0;32m--> 205\u001b[0m \u001b[38;5;28;01mif\u001b[39;00m \u001b[43mnp\u001b[49m\u001b[38;5;241;43m.\u001b[39;49m\u001b[43mndim\u001b[49m\u001b[43m(\u001b[49m\u001b[43mx\u001b[49m\u001b[43m)\u001b[49m \u001b[38;5;241m!=\u001b[39m \u001b[38;5;241m0\u001b[39m:\n\u001b[1;32m    206\u001b[0m     \u001b[38;5;28;01mreturn\u001b[39;00m \u001b[38;5;28;01mFalse\u001b[39;00m\n\u001b[1;32m    207\u001b[0m \u001b[38;5;28;01mtry\u001b[39;00m:\n",
      "\u001b[0;31mKeyboardInterrupt\u001b[0m: "
     ]
    }
   ],
   "source": [
    "print(\"Ranking Engine evaluation:\")\n",
    "evaluate_engine(query_df.iloc[:N], rankEngine)"
   ]
  },
  {
   "cell_type": "markdown",
   "metadata": {
    "cell_id": "e8bac362569549a3bc16712579145dbc",
    "deepnote_cell_type": "text-cell-h1",
    "formattedRanges": [],
    "is_collapsed": false,
    "tags": []
   },
   "source": [
    "# 4. Visualizing the most relevant places"
   ]
  },
  {
   "cell_type": "code",
   "execution_count": null,
   "metadata": {
    "cell_id": "84230b6d32204e969106764a41676797",
    "deepnote_cell_type": "code",
    "deepnote_to_be_reexecuted": false,
    "execution_millis": 16443,
    "execution_start": 1668526520757,
    "is_output_hidden": true,
    "output_cleared": false,
    "source_hash": "218826d5",
    "tags": []
   },
   "outputs": [],
   "source": [
    "import spacy\n",
    "!python -m spacy download en_core_web_sm\n",
    "spacy.load(\"en_core_web_sm\") \n",
    "import nltk\n",
    "# essential entity models downloads\n",
    "nltk.downloader.download('maxent_ne_chunker')\n",
    "nltk.downloader.download('words')\n",
    "nltk.downloader.download('treebank')\n",
    "nltk.downloader.download('maxent_treebank_pos_tagger')\n",
    "nltk.downloader.download('punkt')\n",
    "nltk.download('averaged_perceptron_tagger')"
   ]
  },
  {
   "cell_type": "code",
   "execution_count": 44,
   "metadata": {
    "cell_id": "c8255043cb344de7a1656c3751de9c55",
    "deepnote_cell_type": "code",
    "deepnote_to_be_reexecuted": false,
    "execution_millis": 3702,
    "execution_start": 1668526537203,
    "output_cleared": false,
    "source_hash": "387e9136",
    "tags": []
   },
   "outputs": [
    {
     "data": {
      "text/html": [
       "<div>\n",
       "<style scoped>\n",
       "    .dataframe tbody tr th:only-of-type {\n",
       "        vertical-align: middle;\n",
       "    }\n",
       "\n",
       "    .dataframe tbody tr th {\n",
       "        vertical-align: top;\n",
       "    }\n",
       "\n",
       "    .dataframe thead th {\n",
       "        text-align: right;\n",
       "    }\n",
       "</style>\n",
       "<table border=\"1\" class=\"dataframe\">\n",
       "  <thead>\n",
       "    <tr style=\"text-align: right;\">\n",
       "      <th></th>\n",
       "      <th>placeName</th>\n",
       "      <th>placeTags</th>\n",
       "      <th>numPeopleVisited</th>\n",
       "      <th>numPeopleWant</th>\n",
       "      <th>placeDesc</th>\n",
       "      <th>placeShortDesc</th>\n",
       "      <th>placeNearby</th>\n",
       "      <th>placeAddress</th>\n",
       "      <th>placeAlt</th>\n",
       "      <th>placeLng</th>\n",
       "      <th>...</th>\n",
       "      <th>placeUrl</th>\n",
       "      <th>placeZone</th>\n",
       "      <th>editors_score</th>\n",
       "      <th>related_score</th>\n",
       "      <th>wants_score</th>\n",
       "      <th>visited_score</th>\n",
       "      <th>importance</th>\n",
       "      <th>score</th>\n",
       "      <th>Country</th>\n",
       "      <th>Address</th>\n",
       "    </tr>\n",
       "  </thead>\n",
       "  <tbody>\n",
       "    <tr>\n",
       "      <th>4</th>\n",
       "      <td>Catacombes de Paris</td>\n",
       "      <td>{'ossuaries', 'catacombs and crypts', 'memento...</td>\n",
       "      <td>4445</td>\n",
       "      <td>7045</td>\n",
       "      <td>In 2004, Parisian police were assigned to do a...</td>\n",
       "      <td>The vast, legendary catacombs hold secrets muc...</td>\n",
       "      <td>['Sculptures de Décure', 'Arago Medallions', \"...</td>\n",
       "      <td>1 Place Denfert-Rochereau; Paris, 75014; France</td>\n",
       "      <td>48.8343</td>\n",
       "      <td>2.3322</td>\n",
       "      <td>...</td>\n",
       "      <td>https://www.atlasobscura.com/places/catacombes...</td>\n",
       "      <td>Paris, France</td>\n",
       "      <td>1.000</td>\n",
       "      <td>1.0</td>\n",
       "      <td>0.975236</td>\n",
       "      <td>0.954637</td>\n",
       "      <td>0.982468</td>\n",
       "      <td>0.991234</td>\n",
       "      <td>France</td>\n",
       "      <td>1 Place Denfert-Rochereau</td>\n",
       "    </tr>\n",
       "    <tr>\n",
       "      <th>1</th>\n",
       "      <td>Highgate Cemetery</td>\n",
       "      <td>{'catacombs and crypts', 'rivals week', 'vampi...</td>\n",
       "      <td>2617</td>\n",
       "      <td>8182</td>\n",
       "      <td>Opened in 1839, Highgate is one of London’s mo...</td>\n",
       "      <td>London's creepiest cemetery was once the site ...</td>\n",
       "      <td>[\"World's Largest Potted Plant\", 'Dick Whittin...</td>\n",
       "      <td>Swain's Lane, Highgate; London, England, N6; U...</td>\n",
       "      <td>51.5675</td>\n",
       "      <td>-0.1483</td>\n",
       "      <td>...</td>\n",
       "      <td>https://www.atlasobscura.com/places/highgate-c...</td>\n",
       "      <td>London, England</td>\n",
       "      <td>0.725</td>\n",
       "      <td>1.0</td>\n",
       "      <td>0.994033</td>\n",
       "      <td>0.894448</td>\n",
       "      <td>0.834620</td>\n",
       "      <td>0.917310</td>\n",
       "      <td>United Kingdom</td>\n",
       "      <td>Swain's Lane, Highgate</td>\n",
       "    </tr>\n",
       "    <tr>\n",
       "      <th>58</th>\n",
       "      <td>Père Lachaise Cemetery</td>\n",
       "      <td>{'catacombs and crypts', 'cemeteries'}</td>\n",
       "      <td>4143</td>\n",
       "      <td>4000</td>\n",
       "      <td>Originally established by Napoleon, the cemete...</td>\n",
       "      <td>France's most famous cemetery, with some of it...</td>\n",
       "      <td>['Grave of Antoine-Augustin Parmentier', 'The ...</td>\n",
       "      <td>16, rue du Repos; Paris, 75020; France</td>\n",
       "      <td>48.8594</td>\n",
       "      <td>2.3910</td>\n",
       "      <td>...</td>\n",
       "      <td>https://www.atlasobscura.com/places/pere-lacha...</td>\n",
       "      <td>Paris, France</td>\n",
       "      <td>0.650</td>\n",
       "      <td>0.4</td>\n",
       "      <td>0.904129</td>\n",
       "      <td>0.946642</td>\n",
       "      <td>0.787693</td>\n",
       "      <td>0.893846</td>\n",
       "      <td>France</td>\n",
       "      <td>16, rue du Repos</td>\n",
       "    </tr>\n",
       "    <tr>\n",
       "      <th>131</th>\n",
       "      <td>Torre Argentina (Roman Cat Sanctuary)</td>\n",
       "      <td>{'roman', 'ruins', 'history', 'long now locati...</td>\n",
       "      <td>2495</td>\n",
       "      <td>3022</td>\n",
       "      <td>In Rome the cats have an ancient temple-comple...</td>\n",
       "      <td>Hundreds of lucky felines haunt the ruins wher...</td>\n",
       "      <td>['Elephant and Obelisk', 'Santa Maria sopra Mi...</td>\n",
       "      <td>1-41 Via di Torre Argentina; Rome, 00186; Italy</td>\n",
       "      <td>41.8959</td>\n",
       "      <td>12.4765</td>\n",
       "      <td>...</td>\n",
       "      <td>https://www.atlasobscura.com/places/torre-arge...</td>\n",
       "      <td>Rome, Italy</td>\n",
       "      <td>0.675</td>\n",
       "      <td>0.6</td>\n",
       "      <td>0.868911</td>\n",
       "      <td>0.889025</td>\n",
       "      <td>0.776984</td>\n",
       "      <td>0.888492</td>\n",
       "      <td>Italy</td>\n",
       "      <td>1-41 Via di Torre Argentina</td>\n",
       "    </tr>\n",
       "    <tr>\n",
       "      <th>182</th>\n",
       "      <td>Saint Louis Cemetery No. 1</td>\n",
       "      <td>{'memento mori', 'catacombs and crypts', 'cata...</td>\n",
       "      <td>3584</td>\n",
       "      <td>2751</td>\n",
       "      <td>Opened in 1789, the Saint Louis Cemetery #1 is...</td>\n",
       "      <td>The oldest cemetery in New Orleans, resting pe...</td>\n",
       "      <td>[\"Marie Laveau's Tomb\", \"Nicolas Cage's Pyrami...</td>\n",
       "      <td>1255-1399 Conti St; 425 Basin St.; New Orleans...</td>\n",
       "      <td>29.9594</td>\n",
       "      <td>-90.0714</td>\n",
       "      <td>...</td>\n",
       "      <td>https://www.atlasobscura.com/places/saint-loui...</td>\n",
       "      <td>New Orleans, Louisiana</td>\n",
       "      <td>0.575</td>\n",
       "      <td>0.4</td>\n",
       "      <td>0.857109</td>\n",
       "      <td>0.930174</td>\n",
       "      <td>0.734321</td>\n",
       "      <td>0.867160</td>\n",
       "      <td>United States</td>\n",
       "      <td>1255-1399 Conti St</td>\n",
       "    </tr>\n",
       "  </tbody>\n",
       "</table>\n",
       "<p>5 rows × 24 columns</p>\n",
       "</div>"
      ],
      "text/plain": [
       "                                 placeName  \\\n",
       "4                      Catacombes de Paris   \n",
       "1                        Highgate Cemetery   \n",
       "58                  Père Lachaise Cemetery   \n",
       "131  Torre Argentina (Roman Cat Sanctuary)   \n",
       "182             Saint Louis Cemetery No. 1   \n",
       "\n",
       "                                             placeTags  numPeopleVisited  \\\n",
       "4    {'ossuaries', 'catacombs and crypts', 'memento...              4445   \n",
       "1    {'catacombs and crypts', 'rivals week', 'vampi...              2617   \n",
       "58              {'catacombs and crypts', 'cemeteries'}              4143   \n",
       "131  {'roman', 'ruins', 'history', 'long now locati...              2495   \n",
       "182  {'memento mori', 'catacombs and crypts', 'cata...              3584   \n",
       "\n",
       "     numPeopleWant                                          placeDesc  \\\n",
       "4             7045  In 2004, Parisian police were assigned to do a...   \n",
       "1             8182  Opened in 1839, Highgate is one of London’s mo...   \n",
       "58            4000  Originally established by Napoleon, the cemete...   \n",
       "131           3022  In Rome the cats have an ancient temple-comple...   \n",
       "182           2751  Opened in 1789, the Saint Louis Cemetery #1 is...   \n",
       "\n",
       "                                        placeShortDesc  \\\n",
       "4    The vast, legendary catacombs hold secrets muc...   \n",
       "1    London's creepiest cemetery was once the site ...   \n",
       "58   France's most famous cemetery, with some of it...   \n",
       "131  Hundreds of lucky felines haunt the ruins wher...   \n",
       "182  The oldest cemetery in New Orleans, resting pe...   \n",
       "\n",
       "                                           placeNearby  \\\n",
       "4    ['Sculptures de Décure', 'Arago Medallions', \"...   \n",
       "1    [\"World's Largest Potted Plant\", 'Dick Whittin...   \n",
       "58   ['Grave of Antoine-Augustin Parmentier', 'The ...   \n",
       "131  ['Elephant and Obelisk', 'Santa Maria sopra Mi...   \n",
       "182  [\"Marie Laveau's Tomb\", \"Nicolas Cage's Pyrami...   \n",
       "\n",
       "                                          placeAddress  placeAlt  placeLng  \\\n",
       "4      1 Place Denfert-Rochereau; Paris, 75014; France   48.8343    2.3322   \n",
       "1    Swain's Lane, Highgate; London, England, N6; U...   51.5675   -0.1483   \n",
       "58              16, rue du Repos; Paris, 75020; France   48.8594    2.3910   \n",
       "131    1-41 Via di Torre Argentina; Rome, 00186; Italy   41.8959   12.4765   \n",
       "182  1255-1399 Conti St; 425 Basin St.; New Orleans...   29.9594  -90.0714   \n",
       "\n",
       "     ...                                           placeUrl  \\\n",
       "4    ...  https://www.atlasobscura.com/places/catacombes...   \n",
       "1    ...  https://www.atlasobscura.com/places/highgate-c...   \n",
       "58   ...  https://www.atlasobscura.com/places/pere-lacha...   \n",
       "131  ...  https://www.atlasobscura.com/places/torre-arge...   \n",
       "182  ...  https://www.atlasobscura.com/places/saint-loui...   \n",
       "\n",
       "                  placeZone editors_score related_score wants_score  \\\n",
       "4             Paris, France         1.000           1.0    0.975236   \n",
       "1           London, England         0.725           1.0    0.994033   \n",
       "58            Paris, France         0.650           0.4    0.904129   \n",
       "131             Rome, Italy         0.675           0.6    0.868911   \n",
       "182  New Orleans, Louisiana         0.575           0.4    0.857109   \n",
       "\n",
       "    visited_score  importance     score         Country  \\\n",
       "4        0.954637    0.982468  0.991234          France   \n",
       "1        0.894448    0.834620  0.917310  United Kingdom   \n",
       "58       0.946642    0.787693  0.893846          France   \n",
       "131      0.889025    0.776984  0.888492           Italy   \n",
       "182      0.930174    0.734321  0.867160   United States   \n",
       "\n",
       "                         Address  \n",
       "4      1 Place Denfert-Rochereau  \n",
       "1         Swain's Lane, Highgate  \n",
       "58              16, rue du Repos  \n",
       "131  1-41 Via di Torre Argentina  \n",
       "182           1255-1399 Conti St  \n",
       "\n",
       "[5 rows x 24 columns]"
      ]
     },
     "execution_count": 44,
     "metadata": {},
     "output_type": "execute_result"
    }
   ],
   "source": [
    "import locationtagger\n",
    "QUERY = 'cemetery'\n",
    "df = rankEngine.search(QUERY, columns = True, k = 30)\n",
    "df['Country'] = df.placeAddress.apply(lambda ad: locationtagger.find_locations(text = ad).countries[0])\n",
    "df['Address'] = df.placeAddress.apply(lambda ad: ad.split(';')[0])\n",
    "df.head()"
   ]
  },
  {
   "cell_type": "code",
   "execution_count": 50,
   "metadata": {
    "cell_id": "f5f92df5c99e46c38af908e23e5b87cb",
    "deepnote_cell_type": "code",
    "deepnote_to_be_reexecuted": false,
    "execution_millis": 1846,
    "execution_start": 1668526540422,
    "output_cleared": false,
    "source_hash": "ee90a23d",
    "tags": []
   },
   "outputs": [
    {
     "data": {
      "application/vnd.plotly.v1+json": {
       "config": {
        "plotlyServerURL": "https://plot.ly"
       },
       "data": [
        {
         "customdata": [
          [
           "Catacombes de Paris",
           "1 Place Denfert-Rochereau",
           "Paris, France",
           "France",
           4445
          ],
          [
           "Highgate Cemetery",
           "Swain's Lane, Highgate",
           "London, England",
           "United Kingdom",
           2617
          ],
          [
           "Père Lachaise Cemetery",
           "16, rue du Repos",
           "Paris, France",
           "France",
           4143
          ],
          [
           "Torre Argentina (Roman Cat Sanctuary)",
           "1-41 Via di Torre Argentina",
           "Rome, Italy",
           "Italy",
           2495
          ],
          [
           "Saint Louis Cemetery No. 1",
           "1255-1399 Conti St",
           "New Orleans, Louisiana",
           "United States",
           3584
          ],
          [
           "Sedlec Ossuary Bone Church",
           "1,2 Havlíčkovo náměstí",
           "Kutna Hora, Czechia",
           "Czechia",
           1650
          ],
          [
           "The Wave Organ",
           "83 Marina Green Dr",
           "San Francisco, California",
           "United States",
           2427
          ],
          [
           "Marie Laveau's Tomb",
           "1201-1253 Conti St",
           "New Orleans, Louisiana",
           "United States",
           3197
          ],
          [
           "Hollywood Forever Cemetery",
           "6000 Santa Monica Blvd",
           "Los Angeles, California",
           "United States",
           2560
          ],
          [
           "New Orleans Historic Voodoo Museum",
           "724 Dumaine Street",
           "New Orleans, Louisiana",
           "United States",
           2210
          ],
          [
           "The Witch House of Salem",
           "310 1/2 Essex Street",
           "Salem, Massachusetts",
           "United States",
           3169
          ],
          [
           "Mount Moriah Cemetery",
           "6201 Kingsessing Ave",
           "Philadelphia, Pennsylvania",
           "United States",
           661
          ],
          [
           "The Haserot Angel",
           "12316 Euclid Ave",
           "Cleveland, Ohio",
           "United States",
           878
          ],
          [
           "Edgar Allan Poe's Grave",
           "515 W. Fayette St.",
           "Baltimore, Maryland",
           "United States",
           1458
          ],
          [
           "Nicolas Cage's Pyramid Tomb",
           "St. Louis Cemetery No. 1",
           "New Orleans, Louisiana",
           "United States",
           1701
          ],
          [
           "The Hardy Tree",
           "Pancras Road",
           "London, England",
           "United Kingdom",
           856
          ],
          [
           "Trans-Allegheny Lunatic Asylum",
           "50 S River Ave",
           "Weston, West Virginia",
           "United States",
           516
          ],
          [
           "Boston's Old Burying Grounds",
           "Tremont Street",
           "Boston, Massachusetts",
           "United States",
           3247
          ],
          [
           "Lafayette Cemetery",
           "Lafayette Cemetery",
           "New Orleans, Louisiana",
           "United States",
           2044
          ],
          [
           "Pyramid of Cestius",
           "Pyramid of Caius Cestius",
           "Rome, Italy",
           "Italy",
           1458
          ],
          [
           "Trinity Churchyard",
           "75 Broadway",
           "Manhattan, New York",
           "United States",
           2356
          ],
          [
           "Old Jewish Cemetery",
           "3 U Starého hřbitova",
           "Prague, Czechia",
           "Czechia",
           2212
          ],
          [
           "Danvers State Hospital",
           "1101 Kirkbride Drive",
           "Danvers, Massachusetts",
           "United States",
           512
          ],
          [
           "Clown Motel",
           "521 N Main Street",
           "Tonopah, Nevada",
           "United States",
           598
          ],
          [
           "Montmartre Cemetery",
           "20, Avenue Rachel",
           "Paris, France",
           "France",
           1633
          ],
          [
           "Le Palais Idéal",
           "351 Rue Étienne Vassy",
           "Hauterives, France",
           "France",
           224
          ],
          [
           "The Glasgow Necropolis",
           "Wishart Street",
           "Glasgow, Scotland",
           "United Kingdom",
           1304
          ],
          [
           "Old Calton Cemetery",
           "27 Waterloo Pl",
           "Edinburgh, Scotland",
           "United Kingdom",
           931
          ],
          [
           "Colonial Park Cemetery",
           "121 East Oglethorpe Avenue",
           "Savannah, Georgia",
           "United States",
           1297
          ],
          [
           "The Old Dutch Church of Sleepy Hollow",
           "420 N. Broadway",
           "Sleepy Hollow, New York",
           "United States",
           665
          ]
         ],
         "hovertemplate": "<b>%{hovertext}</b><br><br>score=%{marker.size}<br>Latitude=%{lat}<br>Longitude=%{lon}<br>Name=%{customdata[0]}<br>Address=%{customdata[1]}<br>City=%{customdata[2]}<br>Country=%{customdata[3]}<br>Number of people who visited=%{customdata[4]}<extra></extra>",
         "hovertext": [
          "Catacombes de Paris",
          "Highgate Cemetery",
          "Père Lachaise Cemetery",
          "Torre Argentina (Roman Cat Sanctuary)",
          "Saint Louis Cemetery No. 1",
          "Sedlec Ossuary Bone Church",
          "The Wave Organ",
          "Marie Laveau's Tomb",
          "Hollywood Forever Cemetery",
          "New Orleans Historic Voodoo Museum",
          "The Witch House of Salem",
          "Mount Moriah Cemetery",
          "The Haserot Angel",
          "Edgar Allan Poe's Grave",
          "Nicolas Cage's Pyramid Tomb",
          "The Hardy Tree",
          "Trans-Allegheny Lunatic Asylum",
          "Boston's Old Burying Grounds",
          "Lafayette Cemetery",
          "Pyramid of Cestius",
          "Trinity Churchyard",
          "Old Jewish Cemetery",
          "Danvers State Hospital",
          "Clown Motel",
          "Montmartre Cemetery",
          "Le Palais Idéal",
          "The Glasgow Necropolis",
          "Old Calton Cemetery",
          "Colonial Park Cemetery",
          "The Old Dutch Church of Sleepy Hollow"
         ],
         "lat": [
          48.8343,
          51.5675,
          48.8594,
          41.8959,
          29.9594,
          49.9482,
          37.8085,
          29.9591,
          34.0887,
          29.9598,
          42.5215,
          39.9311,
          41.5137,
          39.2902,
          29.959,
          51.5349,
          39.0388,
          42.3573,
          29.9286,
          41.8766,
          40.7083,
          50.0895,
          42.5824,
          38.0723,
          48.8859,
          45.2563,
          55.8627,
          55.9537,
          32.0762,
          41.0899
         ],
         "legendgroup": "",
         "lon": [
          2.3322,
          -0.1483,
          2.391,
          12.4765,
          -90.0714,
          15.2676,
          -122.4401,
          -90.0714,
          -118.319,
          -90.0639,
          -70.8989,
          -75.2358,
          -81.5978,
          -76.6232,
          -90.0712,
          -0.1309,
          -80.4712,
          -71.0613,
          -90.0843,
          12.4809,
          -74.0128,
          14.4174,
          -70.9775,
          -117.2377,
          2.3319,
          5.0285,
          -4.2335,
          -3.1859,
          -81.0906,
          -73.8621
         ],
         "marker": {
          "color": "#4b7eb1",
          "size": [
           0.9912340683762013,
           0.9173101024780084,
           0.8938464226971577,
           0.8884918869618597,
           0.867160406742315,
           0.8598815138946253,
           0.8459249088064584,
           0.8432318692224369,
           0.8338598694070378,
           0.830760205282533,
           0.8211402439489913,
           0.8199332176708142,
           0.8194199478340782,
           0.8121405087572269,
           0.8055727545240124,
           0.8027937050909799,
           0.802448780301822,
           0.8006628507351701,
           0.7988598470472899,
           0.796832447588014,
           0.795007090612585,
           0.7926010108370789,
           0.7854864442324192,
           0.7850651239191335,
           0.7824680675977543,
           0.7791219376271938,
           0.7778165892203693,
           0.776876007428682,
           0.7762197560314672,
           0.7751429592787673
          ],
          "sizemode": "area",
          "sizeref": 0.004405484748338673
         },
         "mode": "markers",
         "name": "",
         "showlegend": false,
         "subplot": "mapbox",
         "type": "scattermapbox"
        }
       ],
       "layout": {
        "height": 300,
        "legend": {
         "itemsizing": "constant",
         "tracegroupgap": 0
        },
        "mapbox": {
         "center": {
          "lat": 41.713656666666665,
          "lon": -50.17209333333334
         },
         "domain": {
          "x": [
           0,
           1
          ],
          "y": [
           0,
           1
          ]
         },
         "style": "carto-positron",
         "zoom": 3
        },
        "margin": {
         "b": 0,
         "l": 0,
         "r": 0,
         "t": 0
        },
        "template": {
         "data": {
          "bar": [
           {
            "error_x": {
             "color": "#2a3f5f"
            },
            "error_y": {
             "color": "#2a3f5f"
            },
            "marker": {
             "line": {
              "color": "#E5ECF6",
              "width": 0.5
             },
             "pattern": {
              "fillmode": "overlay",
              "size": 10,
              "solidity": 0.2
             }
            },
            "type": "bar"
           }
          ],
          "barpolar": [
           {
            "marker": {
             "line": {
              "color": "#E5ECF6",
              "width": 0.5
             },
             "pattern": {
              "fillmode": "overlay",
              "size": 10,
              "solidity": 0.2
             }
            },
            "type": "barpolar"
           }
          ],
          "carpet": [
           {
            "aaxis": {
             "endlinecolor": "#2a3f5f",
             "gridcolor": "white",
             "linecolor": "white",
             "minorgridcolor": "white",
             "startlinecolor": "#2a3f5f"
            },
            "baxis": {
             "endlinecolor": "#2a3f5f",
             "gridcolor": "white",
             "linecolor": "white",
             "minorgridcolor": "white",
             "startlinecolor": "#2a3f5f"
            },
            "type": "carpet"
           }
          ],
          "choropleth": [
           {
            "colorbar": {
             "outlinewidth": 0,
             "ticks": ""
            },
            "type": "choropleth"
           }
          ],
          "contour": [
           {
            "colorbar": {
             "outlinewidth": 0,
             "ticks": ""
            },
            "colorscale": [
             [
              0,
              "#0d0887"
             ],
             [
              0.1111111111111111,
              "#46039f"
             ],
             [
              0.2222222222222222,
              "#7201a8"
             ],
             [
              0.3333333333333333,
              "#9c179e"
             ],
             [
              0.4444444444444444,
              "#bd3786"
             ],
             [
              0.5555555555555556,
              "#d8576b"
             ],
             [
              0.6666666666666666,
              "#ed7953"
             ],
             [
              0.7777777777777778,
              "#fb9f3a"
             ],
             [
              0.8888888888888888,
              "#fdca26"
             ],
             [
              1,
              "#f0f921"
             ]
            ],
            "type": "contour"
           }
          ],
          "contourcarpet": [
           {
            "colorbar": {
             "outlinewidth": 0,
             "ticks": ""
            },
            "type": "contourcarpet"
           }
          ],
          "heatmap": [
           {
            "colorbar": {
             "outlinewidth": 0,
             "ticks": ""
            },
            "colorscale": [
             [
              0,
              "#0d0887"
             ],
             [
              0.1111111111111111,
              "#46039f"
             ],
             [
              0.2222222222222222,
              "#7201a8"
             ],
             [
              0.3333333333333333,
              "#9c179e"
             ],
             [
              0.4444444444444444,
              "#bd3786"
             ],
             [
              0.5555555555555556,
              "#d8576b"
             ],
             [
              0.6666666666666666,
              "#ed7953"
             ],
             [
              0.7777777777777778,
              "#fb9f3a"
             ],
             [
              0.8888888888888888,
              "#fdca26"
             ],
             [
              1,
              "#f0f921"
             ]
            ],
            "type": "heatmap"
           }
          ],
          "heatmapgl": [
           {
            "colorbar": {
             "outlinewidth": 0,
             "ticks": ""
            },
            "colorscale": [
             [
              0,
              "#0d0887"
             ],
             [
              0.1111111111111111,
              "#46039f"
             ],
             [
              0.2222222222222222,
              "#7201a8"
             ],
             [
              0.3333333333333333,
              "#9c179e"
             ],
             [
              0.4444444444444444,
              "#bd3786"
             ],
             [
              0.5555555555555556,
              "#d8576b"
             ],
             [
              0.6666666666666666,
              "#ed7953"
             ],
             [
              0.7777777777777778,
              "#fb9f3a"
             ],
             [
              0.8888888888888888,
              "#fdca26"
             ],
             [
              1,
              "#f0f921"
             ]
            ],
            "type": "heatmapgl"
           }
          ],
          "histogram": [
           {
            "marker": {
             "pattern": {
              "fillmode": "overlay",
              "size": 10,
              "solidity": 0.2
             }
            },
            "type": "histogram"
           }
          ],
          "histogram2d": [
           {
            "colorbar": {
             "outlinewidth": 0,
             "ticks": ""
            },
            "colorscale": [
             [
              0,
              "#0d0887"
             ],
             [
              0.1111111111111111,
              "#46039f"
             ],
             [
              0.2222222222222222,
              "#7201a8"
             ],
             [
              0.3333333333333333,
              "#9c179e"
             ],
             [
              0.4444444444444444,
              "#bd3786"
             ],
             [
              0.5555555555555556,
              "#d8576b"
             ],
             [
              0.6666666666666666,
              "#ed7953"
             ],
             [
              0.7777777777777778,
              "#fb9f3a"
             ],
             [
              0.8888888888888888,
              "#fdca26"
             ],
             [
              1,
              "#f0f921"
             ]
            ],
            "type": "histogram2d"
           }
          ],
          "histogram2dcontour": [
           {
            "colorbar": {
             "outlinewidth": 0,
             "ticks": ""
            },
            "colorscale": [
             [
              0,
              "#0d0887"
             ],
             [
              0.1111111111111111,
              "#46039f"
             ],
             [
              0.2222222222222222,
              "#7201a8"
             ],
             [
              0.3333333333333333,
              "#9c179e"
             ],
             [
              0.4444444444444444,
              "#bd3786"
             ],
             [
              0.5555555555555556,
              "#d8576b"
             ],
             [
              0.6666666666666666,
              "#ed7953"
             ],
             [
              0.7777777777777778,
              "#fb9f3a"
             ],
             [
              0.8888888888888888,
              "#fdca26"
             ],
             [
              1,
              "#f0f921"
             ]
            ],
            "type": "histogram2dcontour"
           }
          ],
          "mesh3d": [
           {
            "colorbar": {
             "outlinewidth": 0,
             "ticks": ""
            },
            "type": "mesh3d"
           }
          ],
          "parcoords": [
           {
            "line": {
             "colorbar": {
              "outlinewidth": 0,
              "ticks": ""
             }
            },
            "type": "parcoords"
           }
          ],
          "pie": [
           {
            "automargin": true,
            "type": "pie"
           }
          ],
          "scatter": [
           {
            "fillpattern": {
             "fillmode": "overlay",
             "size": 10,
             "solidity": 0.2
            },
            "type": "scatter"
           }
          ],
          "scatter3d": [
           {
            "line": {
             "colorbar": {
              "outlinewidth": 0,
              "ticks": ""
             }
            },
            "marker": {
             "colorbar": {
              "outlinewidth": 0,
              "ticks": ""
             }
            },
            "type": "scatter3d"
           }
          ],
          "scattercarpet": [
           {
            "marker": {
             "colorbar": {
              "outlinewidth": 0,
              "ticks": ""
             }
            },
            "type": "scattercarpet"
           }
          ],
          "scattergeo": [
           {
            "marker": {
             "colorbar": {
              "outlinewidth": 0,
              "ticks": ""
             }
            },
            "type": "scattergeo"
           }
          ],
          "scattergl": [
           {
            "marker": {
             "colorbar": {
              "outlinewidth": 0,
              "ticks": ""
             }
            },
            "type": "scattergl"
           }
          ],
          "scattermapbox": [
           {
            "marker": {
             "colorbar": {
              "outlinewidth": 0,
              "ticks": ""
             }
            },
            "type": "scattermapbox"
           }
          ],
          "scatterpolar": [
           {
            "marker": {
             "colorbar": {
              "outlinewidth": 0,
              "ticks": ""
             }
            },
            "type": "scatterpolar"
           }
          ],
          "scatterpolargl": [
           {
            "marker": {
             "colorbar": {
              "outlinewidth": 0,
              "ticks": ""
             }
            },
            "type": "scatterpolargl"
           }
          ],
          "scatterternary": [
           {
            "marker": {
             "colorbar": {
              "outlinewidth": 0,
              "ticks": ""
             }
            },
            "type": "scatterternary"
           }
          ],
          "surface": [
           {
            "colorbar": {
             "outlinewidth": 0,
             "ticks": ""
            },
            "colorscale": [
             [
              0,
              "#0d0887"
             ],
             [
              0.1111111111111111,
              "#46039f"
             ],
             [
              0.2222222222222222,
              "#7201a8"
             ],
             [
              0.3333333333333333,
              "#9c179e"
             ],
             [
              0.4444444444444444,
              "#bd3786"
             ],
             [
              0.5555555555555556,
              "#d8576b"
             ],
             [
              0.6666666666666666,
              "#ed7953"
             ],
             [
              0.7777777777777778,
              "#fb9f3a"
             ],
             [
              0.8888888888888888,
              "#fdca26"
             ],
             [
              1,
              "#f0f921"
             ]
            ],
            "type": "surface"
           }
          ],
          "table": [
           {
            "cells": {
             "fill": {
              "color": "#EBF0F8"
             },
             "line": {
              "color": "white"
             }
            },
            "header": {
             "fill": {
              "color": "#C8D4E3"
             },
             "line": {
              "color": "white"
             }
            },
            "type": "table"
           }
          ]
         },
         "layout": {
          "annotationdefaults": {
           "arrowcolor": "#2a3f5f",
           "arrowhead": 0,
           "arrowwidth": 1
          },
          "autotypenumbers": "strict",
          "coloraxis": {
           "colorbar": {
            "outlinewidth": 0,
            "ticks": ""
           }
          },
          "colorscale": {
           "diverging": [
            [
             0,
             "#8e0152"
            ],
            [
             0.1,
             "#c51b7d"
            ],
            [
             0.2,
             "#de77ae"
            ],
            [
             0.3,
             "#f1b6da"
            ],
            [
             0.4,
             "#fde0ef"
            ],
            [
             0.5,
             "#f7f7f7"
            ],
            [
             0.6,
             "#e6f5d0"
            ],
            [
             0.7,
             "#b8e186"
            ],
            [
             0.8,
             "#7fbc41"
            ],
            [
             0.9,
             "#4d9221"
            ],
            [
             1,
             "#276419"
            ]
           ],
           "sequential": [
            [
             0,
             "#0d0887"
            ],
            [
             0.1111111111111111,
             "#46039f"
            ],
            [
             0.2222222222222222,
             "#7201a8"
            ],
            [
             0.3333333333333333,
             "#9c179e"
            ],
            [
             0.4444444444444444,
             "#bd3786"
            ],
            [
             0.5555555555555556,
             "#d8576b"
            ],
            [
             0.6666666666666666,
             "#ed7953"
            ],
            [
             0.7777777777777778,
             "#fb9f3a"
            ],
            [
             0.8888888888888888,
             "#fdca26"
            ],
            [
             1,
             "#f0f921"
            ]
           ],
           "sequentialminus": [
            [
             0,
             "#0d0887"
            ],
            [
             0.1111111111111111,
             "#46039f"
            ],
            [
             0.2222222222222222,
             "#7201a8"
            ],
            [
             0.3333333333333333,
             "#9c179e"
            ],
            [
             0.4444444444444444,
             "#bd3786"
            ],
            [
             0.5555555555555556,
             "#d8576b"
            ],
            [
             0.6666666666666666,
             "#ed7953"
            ],
            [
             0.7777777777777778,
             "#fb9f3a"
            ],
            [
             0.8888888888888888,
             "#fdca26"
            ],
            [
             1,
             "#f0f921"
            ]
           ]
          },
          "colorway": [
           "#636efa",
           "#EF553B",
           "#00cc96",
           "#ab63fa",
           "#FFA15A",
           "#19d3f3",
           "#FF6692",
           "#B6E880",
           "#FF97FF",
           "#FECB52"
          ],
          "font": {
           "color": "#2a3f5f"
          },
          "geo": {
           "bgcolor": "white",
           "lakecolor": "white",
           "landcolor": "#E5ECF6",
           "showlakes": true,
           "showland": true,
           "subunitcolor": "white"
          },
          "hoverlabel": {
           "align": "left"
          },
          "hovermode": "closest",
          "mapbox": {
           "style": "light"
          },
          "paper_bgcolor": "white",
          "plot_bgcolor": "#E5ECF6",
          "polar": {
           "angularaxis": {
            "gridcolor": "white",
            "linecolor": "white",
            "ticks": ""
           },
           "bgcolor": "#E5ECF6",
           "radialaxis": {
            "gridcolor": "white",
            "linecolor": "white",
            "ticks": ""
           }
          },
          "scene": {
           "xaxis": {
            "backgroundcolor": "#E5ECF6",
            "gridcolor": "white",
            "gridwidth": 2,
            "linecolor": "white",
            "showbackground": true,
            "ticks": "",
            "zerolinecolor": "white"
           },
           "yaxis": {
            "backgroundcolor": "#E5ECF6",
            "gridcolor": "white",
            "gridwidth": 2,
            "linecolor": "white",
            "showbackground": true,
            "ticks": "",
            "zerolinecolor": "white"
           },
           "zaxis": {
            "backgroundcolor": "#E5ECF6",
            "gridcolor": "white",
            "gridwidth": 2,
            "linecolor": "white",
            "showbackground": true,
            "ticks": "",
            "zerolinecolor": "white"
           }
          },
          "shapedefaults": {
           "line": {
            "color": "#2a3f5f"
           }
          },
          "ternary": {
           "aaxis": {
            "gridcolor": "white",
            "linecolor": "white",
            "ticks": ""
           },
           "baxis": {
            "gridcolor": "white",
            "linecolor": "white",
            "ticks": ""
           },
           "bgcolor": "#E5ECF6",
           "caxis": {
            "gridcolor": "white",
            "linecolor": "white",
            "ticks": ""
           }
          },
          "title": {
           "x": 0.05
          },
          "xaxis": {
           "automargin": true,
           "gridcolor": "white",
           "linecolor": "white",
           "ticks": "",
           "title": {
            "standoff": 15
           },
           "zerolinecolor": "white",
           "zerolinewidth": 2
          },
          "yaxis": {
           "automargin": true,
           "gridcolor": "white",
           "linecolor": "white",
           "ticks": "",
           "title": {
            "standoff": 15
           },
           "zerolinecolor": "white",
           "zerolinewidth": 2
          }
         }
        }
       }
      },
      "text/html": [
       "<div>                            <div id=\"b46b38a3-e971-4500-b39f-bb82ff520772\" class=\"plotly-graph-div\" style=\"height:300px; width:100%;\"></div>            <script type=\"text/javascript\">                require([\"plotly\"], function(Plotly) {                    window.PLOTLYENV=window.PLOTLYENV || {};                                    if (document.getElementById(\"b46b38a3-e971-4500-b39f-bb82ff520772\")) {                    Plotly.newPlot(                        \"b46b38a3-e971-4500-b39f-bb82ff520772\",                        [{\"customdata\":[[\"Catacombes de Paris\",\"1 Place Denfert-Rochereau\",\"Paris, France\",\"France\",4445],[\"Highgate Cemetery\",\"Swain's Lane, Highgate\",\"London, England\",\"United Kingdom\",2617],[\"P\\u00e8re Lachaise Cemetery\",\"16, rue du Repos\",\"Paris, France\",\"France\",4143],[\"Torre Argentina (Roman Cat Sanctuary)\",\"1-41 Via di Torre Argentina\",\"Rome, Italy\",\"Italy\",2495],[\"Saint Louis Cemetery No. 1\",\"1255-1399 Conti St\",\"New Orleans, Louisiana\",\"United States\",3584],[\"Sedlec Ossuary Bone Church\",\"1,2 Havl\\u00ed\\u010dkovo n\\u00e1m\\u011bst\\u00ed\",\"Kutna Hora, Czechia\",\"Czechia\",1650],[\"The Wave Organ\",\"83 Marina Green Dr\",\"San Francisco, California\",\"United States\",2427],[\"Marie Laveau's Tomb\",\"1201-1253 Conti St\",\"New Orleans, Louisiana\",\"United States\",3197],[\"Hollywood Forever Cemetery\",\"6000 Santa Monica Blvd\",\"Los Angeles, California\",\"United States\",2560],[\"New Orleans Historic Voodoo Museum\",\"724 Dumaine Street\",\"New Orleans, Louisiana\",\"United States\",2210],[\"The Witch House of Salem\",\"310 1/2 Essex Street\",\"Salem, Massachusetts\",\"United States\",3169],[\"Mount Moriah Cemetery\",\"6201 Kingsessing Ave\",\"Philadelphia, Pennsylvania\",\"United States\",661],[\"The Haserot Angel\",\"12316 Euclid Ave\",\"Cleveland, Ohio\",\"United States\",878],[\"Edgar Allan Poe's Grave\",\"515 W. Fayette St.\",\"Baltimore, Maryland\",\"United States\",1458],[\"Nicolas Cage's Pyramid Tomb\",\"St. Louis Cemetery No. 1\",\"New Orleans, Louisiana\",\"United States\",1701],[\"The Hardy Tree\",\"Pancras Road\",\"London, England\",\"United Kingdom\",856],[\"Trans-Allegheny Lunatic Asylum\",\"50 S River Ave\",\"Weston, West Virginia\",\"United States\",516],[\"Boston's Old Burying Grounds\",\"Tremont Street\",\"Boston, Massachusetts\",\"United States\",3247],[\"Lafayette Cemetery\",\"Lafayette Cemetery\",\"New Orleans, Louisiana\",\"United States\",2044],[\"Pyramid of Cestius\",\"Pyramid of Caius Cestius\",\"Rome, Italy\",\"Italy\",1458],[\"Trinity Churchyard\",\"75 Broadway\",\"Manhattan, New York\",\"United States\",2356],[\"Old Jewish Cemetery\",\"3 U Star\\u00e9ho h\\u0159bitova\",\"Prague, Czechia\",\"Czechia\",2212],[\"Danvers State Hospital\",\"1101 Kirkbride Drive\",\"Danvers, Massachusetts\",\"United States\",512],[\"Clown Motel\",\"521 N Main Street\",\"Tonopah, Nevada\",\"United States\",598],[\"Montmartre Cemetery\",\"20, Avenue Rachel\",\"Paris, France\",\"France\",1633],[\"Le Palais Id\\u00e9al\",\"351 Rue \\u00c9tienne Vassy\",\"Hauterives, France\",\"France\",224],[\"The Glasgow Necropolis\",\"Wishart Street\",\"Glasgow, Scotland\",\"United Kingdom\",1304],[\"Old Calton Cemetery\",\"27 Waterloo Pl\",\"Edinburgh, Scotland\",\"United Kingdom\",931],[\"Colonial Park Cemetery\",\"121 East Oglethorpe Avenue\",\"Savannah, Georgia\",\"United States\",1297],[\"The Old Dutch Church of Sleepy Hollow\",\"420 N. Broadway\",\"Sleepy Hollow, New York\",\"United States\",665]],\"hovertemplate\":\"<b>%{hovertext}</b><br><br>score=%{marker.size}<br>Latitude=%{lat}<br>Longitude=%{lon}<br>Name=%{customdata[0]}<br>Address=%{customdata[1]}<br>City=%{customdata[2]}<br>Country=%{customdata[3]}<br>Number of people who visited=%{customdata[4]}<extra></extra>\",\"hovertext\":[\"Catacombes de Paris\",\"Highgate Cemetery\",\"P\\u00e8re Lachaise Cemetery\",\"Torre Argentina (Roman Cat Sanctuary)\",\"Saint Louis Cemetery No. 1\",\"Sedlec Ossuary Bone Church\",\"The Wave Organ\",\"Marie Laveau's Tomb\",\"Hollywood Forever Cemetery\",\"New Orleans Historic Voodoo Museum\",\"The Witch House of Salem\",\"Mount Moriah Cemetery\",\"The Haserot Angel\",\"Edgar Allan Poe's Grave\",\"Nicolas Cage's Pyramid Tomb\",\"The Hardy Tree\",\"Trans-Allegheny Lunatic Asylum\",\"Boston's Old Burying Grounds\",\"Lafayette Cemetery\",\"Pyramid of Cestius\",\"Trinity Churchyard\",\"Old Jewish Cemetery\",\"Danvers State Hospital\",\"Clown Motel\",\"Montmartre Cemetery\",\"Le Palais Id\\u00e9al\",\"The Glasgow Necropolis\",\"Old Calton Cemetery\",\"Colonial Park Cemetery\",\"The Old Dutch Church of Sleepy Hollow\"],\"lat\":[48.8343,51.5675,48.8594,41.8959,29.9594,49.9482,37.8085,29.9591,34.0887,29.9598,42.5215,39.9311,41.5137,39.2902,29.959,51.5349,39.0388,42.3573,29.9286,41.8766,40.7083,50.0895,42.5824,38.0723,48.8859,45.2563,55.8627,55.9537,32.0762,41.0899],\"legendgroup\":\"\",\"lon\":[2.3322,-0.1483,2.391,12.4765,-90.0714,15.2676,-122.4401,-90.0714,-118.319,-90.0639,-70.8989,-75.2358,-81.5978,-76.6232,-90.0712,-0.1309,-80.4712,-71.0613,-90.0843,12.4809,-74.0128,14.4174,-70.9775,-117.2377,2.3319,5.0285,-4.2335,-3.1859,-81.0906,-73.8621],\"marker\":{\"color\":\"#4b7eb1\",\"size\":[0.9912340683762013,0.9173101024780084,0.8938464226971577,0.8884918869618597,0.867160406742315,0.8598815138946253,0.8459249088064584,0.8432318692224369,0.8338598694070378,0.830760205282533,0.8211402439489913,0.8199332176708142,0.8194199478340782,0.8121405087572269,0.8055727545240124,0.8027937050909799,0.802448780301822,0.8006628507351701,0.7988598470472899,0.796832447588014,0.795007090612585,0.7926010108370789,0.7854864442324192,0.7850651239191335,0.7824680675977543,0.7791219376271938,0.7778165892203693,0.776876007428682,0.7762197560314672,0.7751429592787673],\"sizemode\":\"area\",\"sizeref\":0.004405484748338673},\"mode\":\"markers\",\"name\":\"\",\"showlegend\":false,\"subplot\":\"mapbox\",\"type\":\"scattermapbox\"}],                        {\"template\":{\"data\":{\"histogram2dcontour\":[{\"type\":\"histogram2dcontour\",\"colorbar\":{\"outlinewidth\":0,\"ticks\":\"\"},\"colorscale\":[[0.0,\"#0d0887\"],[0.1111111111111111,\"#46039f\"],[0.2222222222222222,\"#7201a8\"],[0.3333333333333333,\"#9c179e\"],[0.4444444444444444,\"#bd3786\"],[0.5555555555555556,\"#d8576b\"],[0.6666666666666666,\"#ed7953\"],[0.7777777777777778,\"#fb9f3a\"],[0.8888888888888888,\"#fdca26\"],[1.0,\"#f0f921\"]]}],\"choropleth\":[{\"type\":\"choropleth\",\"colorbar\":{\"outlinewidth\":0,\"ticks\":\"\"}}],\"histogram2d\":[{\"type\":\"histogram2d\",\"colorbar\":{\"outlinewidth\":0,\"ticks\":\"\"},\"colorscale\":[[0.0,\"#0d0887\"],[0.1111111111111111,\"#46039f\"],[0.2222222222222222,\"#7201a8\"],[0.3333333333333333,\"#9c179e\"],[0.4444444444444444,\"#bd3786\"],[0.5555555555555556,\"#d8576b\"],[0.6666666666666666,\"#ed7953\"],[0.7777777777777778,\"#fb9f3a\"],[0.8888888888888888,\"#fdca26\"],[1.0,\"#f0f921\"]]}],\"heatmap\":[{\"type\":\"heatmap\",\"colorbar\":{\"outlinewidth\":0,\"ticks\":\"\"},\"colorscale\":[[0.0,\"#0d0887\"],[0.1111111111111111,\"#46039f\"],[0.2222222222222222,\"#7201a8\"],[0.3333333333333333,\"#9c179e\"],[0.4444444444444444,\"#bd3786\"],[0.5555555555555556,\"#d8576b\"],[0.6666666666666666,\"#ed7953\"],[0.7777777777777778,\"#fb9f3a\"],[0.8888888888888888,\"#fdca26\"],[1.0,\"#f0f921\"]]}],\"heatmapgl\":[{\"type\":\"heatmapgl\",\"colorbar\":{\"outlinewidth\":0,\"ticks\":\"\"},\"colorscale\":[[0.0,\"#0d0887\"],[0.1111111111111111,\"#46039f\"],[0.2222222222222222,\"#7201a8\"],[0.3333333333333333,\"#9c179e\"],[0.4444444444444444,\"#bd3786\"],[0.5555555555555556,\"#d8576b\"],[0.6666666666666666,\"#ed7953\"],[0.7777777777777778,\"#fb9f3a\"],[0.8888888888888888,\"#fdca26\"],[1.0,\"#f0f921\"]]}],\"contourcarpet\":[{\"type\":\"contourcarpet\",\"colorbar\":{\"outlinewidth\":0,\"ticks\":\"\"}}],\"contour\":[{\"type\":\"contour\",\"colorbar\":{\"outlinewidth\":0,\"ticks\":\"\"},\"colorscale\":[[0.0,\"#0d0887\"],[0.1111111111111111,\"#46039f\"],[0.2222222222222222,\"#7201a8\"],[0.3333333333333333,\"#9c179e\"],[0.4444444444444444,\"#bd3786\"],[0.5555555555555556,\"#d8576b\"],[0.6666666666666666,\"#ed7953\"],[0.7777777777777778,\"#fb9f3a\"],[0.8888888888888888,\"#fdca26\"],[1.0,\"#f0f921\"]]}],\"surface\":[{\"type\":\"surface\",\"colorbar\":{\"outlinewidth\":0,\"ticks\":\"\"},\"colorscale\":[[0.0,\"#0d0887\"],[0.1111111111111111,\"#46039f\"],[0.2222222222222222,\"#7201a8\"],[0.3333333333333333,\"#9c179e\"],[0.4444444444444444,\"#bd3786\"],[0.5555555555555556,\"#d8576b\"],[0.6666666666666666,\"#ed7953\"],[0.7777777777777778,\"#fb9f3a\"],[0.8888888888888888,\"#fdca26\"],[1.0,\"#f0f921\"]]}],\"mesh3d\":[{\"type\":\"mesh3d\",\"colorbar\":{\"outlinewidth\":0,\"ticks\":\"\"}}],\"scatter\":[{\"fillpattern\":{\"fillmode\":\"overlay\",\"size\":10,\"solidity\":0.2},\"type\":\"scatter\"}],\"parcoords\":[{\"type\":\"parcoords\",\"line\":{\"colorbar\":{\"outlinewidth\":0,\"ticks\":\"\"}}}],\"scatterpolargl\":[{\"type\":\"scatterpolargl\",\"marker\":{\"colorbar\":{\"outlinewidth\":0,\"ticks\":\"\"}}}],\"bar\":[{\"error_x\":{\"color\":\"#2a3f5f\"},\"error_y\":{\"color\":\"#2a3f5f\"},\"marker\":{\"line\":{\"color\":\"#E5ECF6\",\"width\":0.5},\"pattern\":{\"fillmode\":\"overlay\",\"size\":10,\"solidity\":0.2}},\"type\":\"bar\"}],\"scattergeo\":[{\"type\":\"scattergeo\",\"marker\":{\"colorbar\":{\"outlinewidth\":0,\"ticks\":\"\"}}}],\"scatterpolar\":[{\"type\":\"scatterpolar\",\"marker\":{\"colorbar\":{\"outlinewidth\":0,\"ticks\":\"\"}}}],\"histogram\":[{\"marker\":{\"pattern\":{\"fillmode\":\"overlay\",\"size\":10,\"solidity\":0.2}},\"type\":\"histogram\"}],\"scattergl\":[{\"type\":\"scattergl\",\"marker\":{\"colorbar\":{\"outlinewidth\":0,\"ticks\":\"\"}}}],\"scatter3d\":[{\"type\":\"scatter3d\",\"line\":{\"colorbar\":{\"outlinewidth\":0,\"ticks\":\"\"}},\"marker\":{\"colorbar\":{\"outlinewidth\":0,\"ticks\":\"\"}}}],\"scattermapbox\":[{\"type\":\"scattermapbox\",\"marker\":{\"colorbar\":{\"outlinewidth\":0,\"ticks\":\"\"}}}],\"scatterternary\":[{\"type\":\"scatterternary\",\"marker\":{\"colorbar\":{\"outlinewidth\":0,\"ticks\":\"\"}}}],\"scattercarpet\":[{\"type\":\"scattercarpet\",\"marker\":{\"colorbar\":{\"outlinewidth\":0,\"ticks\":\"\"}}}],\"carpet\":[{\"aaxis\":{\"endlinecolor\":\"#2a3f5f\",\"gridcolor\":\"white\",\"linecolor\":\"white\",\"minorgridcolor\":\"white\",\"startlinecolor\":\"#2a3f5f\"},\"baxis\":{\"endlinecolor\":\"#2a3f5f\",\"gridcolor\":\"white\",\"linecolor\":\"white\",\"minorgridcolor\":\"white\",\"startlinecolor\":\"#2a3f5f\"},\"type\":\"carpet\"}],\"table\":[{\"cells\":{\"fill\":{\"color\":\"#EBF0F8\"},\"line\":{\"color\":\"white\"}},\"header\":{\"fill\":{\"color\":\"#C8D4E3\"},\"line\":{\"color\":\"white\"}},\"type\":\"table\"}],\"barpolar\":[{\"marker\":{\"line\":{\"color\":\"#E5ECF6\",\"width\":0.5},\"pattern\":{\"fillmode\":\"overlay\",\"size\":10,\"solidity\":0.2}},\"type\":\"barpolar\"}],\"pie\":[{\"automargin\":true,\"type\":\"pie\"}]},\"layout\":{\"autotypenumbers\":\"strict\",\"colorway\":[\"#636efa\",\"#EF553B\",\"#00cc96\",\"#ab63fa\",\"#FFA15A\",\"#19d3f3\",\"#FF6692\",\"#B6E880\",\"#FF97FF\",\"#FECB52\"],\"font\":{\"color\":\"#2a3f5f\"},\"hovermode\":\"closest\",\"hoverlabel\":{\"align\":\"left\"},\"paper_bgcolor\":\"white\",\"plot_bgcolor\":\"#E5ECF6\",\"polar\":{\"bgcolor\":\"#E5ECF6\",\"angularaxis\":{\"gridcolor\":\"white\",\"linecolor\":\"white\",\"ticks\":\"\"},\"radialaxis\":{\"gridcolor\":\"white\",\"linecolor\":\"white\",\"ticks\":\"\"}},\"ternary\":{\"bgcolor\":\"#E5ECF6\",\"aaxis\":{\"gridcolor\":\"white\",\"linecolor\":\"white\",\"ticks\":\"\"},\"baxis\":{\"gridcolor\":\"white\",\"linecolor\":\"white\",\"ticks\":\"\"},\"caxis\":{\"gridcolor\":\"white\",\"linecolor\":\"white\",\"ticks\":\"\"}},\"coloraxis\":{\"colorbar\":{\"outlinewidth\":0,\"ticks\":\"\"}},\"colorscale\":{\"sequential\":[[0.0,\"#0d0887\"],[0.1111111111111111,\"#46039f\"],[0.2222222222222222,\"#7201a8\"],[0.3333333333333333,\"#9c179e\"],[0.4444444444444444,\"#bd3786\"],[0.5555555555555556,\"#d8576b\"],[0.6666666666666666,\"#ed7953\"],[0.7777777777777778,\"#fb9f3a\"],[0.8888888888888888,\"#fdca26\"],[1.0,\"#f0f921\"]],\"sequentialminus\":[[0.0,\"#0d0887\"],[0.1111111111111111,\"#46039f\"],[0.2222222222222222,\"#7201a8\"],[0.3333333333333333,\"#9c179e\"],[0.4444444444444444,\"#bd3786\"],[0.5555555555555556,\"#d8576b\"],[0.6666666666666666,\"#ed7953\"],[0.7777777777777778,\"#fb9f3a\"],[0.8888888888888888,\"#fdca26\"],[1.0,\"#f0f921\"]],\"diverging\":[[0,\"#8e0152\"],[0.1,\"#c51b7d\"],[0.2,\"#de77ae\"],[0.3,\"#f1b6da\"],[0.4,\"#fde0ef\"],[0.5,\"#f7f7f7\"],[0.6,\"#e6f5d0\"],[0.7,\"#b8e186\"],[0.8,\"#7fbc41\"],[0.9,\"#4d9221\"],[1,\"#276419\"]]},\"xaxis\":{\"gridcolor\":\"white\",\"linecolor\":\"white\",\"ticks\":\"\",\"title\":{\"standoff\":15},\"zerolinecolor\":\"white\",\"automargin\":true,\"zerolinewidth\":2},\"yaxis\":{\"gridcolor\":\"white\",\"linecolor\":\"white\",\"ticks\":\"\",\"title\":{\"standoff\":15},\"zerolinecolor\":\"white\",\"automargin\":true,\"zerolinewidth\":2},\"scene\":{\"xaxis\":{\"backgroundcolor\":\"#E5ECF6\",\"gridcolor\":\"white\",\"linecolor\":\"white\",\"showbackground\":true,\"ticks\":\"\",\"zerolinecolor\":\"white\",\"gridwidth\":2},\"yaxis\":{\"backgroundcolor\":\"#E5ECF6\",\"gridcolor\":\"white\",\"linecolor\":\"white\",\"showbackground\":true,\"ticks\":\"\",\"zerolinecolor\":\"white\",\"gridwidth\":2},\"zaxis\":{\"backgroundcolor\":\"#E5ECF6\",\"gridcolor\":\"white\",\"linecolor\":\"white\",\"showbackground\":true,\"ticks\":\"\",\"zerolinecolor\":\"white\",\"gridwidth\":2}},\"shapedefaults\":{\"line\":{\"color\":\"#2a3f5f\"}},\"annotationdefaults\":{\"arrowcolor\":\"#2a3f5f\",\"arrowhead\":0,\"arrowwidth\":1},\"geo\":{\"bgcolor\":\"white\",\"landcolor\":\"#E5ECF6\",\"subunitcolor\":\"white\",\"showland\":true,\"showlakes\":true,\"lakecolor\":\"white\"},\"title\":{\"x\":0.05},\"mapbox\":{\"style\":\"light\"}}},\"mapbox\":{\"domain\":{\"x\":[0.0,1.0],\"y\":[0.0,1.0]},\"center\":{\"lat\":41.713656666666665,\"lon\":-50.17209333333334},\"zoom\":3,\"style\":\"carto-positron\"},\"legend\":{\"tracegroupgap\":0,\"itemsizing\":\"constant\"},\"margin\":{\"t\":0,\"r\":0,\"l\":0,\"b\":0},\"height\":300},                        {\"responsive\": true}                    ).then(function(){\n",
       "                            \n",
       "var gd = document.getElementById('b46b38a3-e971-4500-b39f-bb82ff520772');\n",
       "var x = new MutationObserver(function (mutations, observer) {{\n",
       "        var display = window.getComputedStyle(gd).display;\n",
       "        if (!display || display === 'none') {{\n",
       "            console.log([gd, 'removed!']);\n",
       "            Plotly.purge(gd);\n",
       "            observer.disconnect();\n",
       "        }}\n",
       "}});\n",
       "\n",
       "// Listen for the removal of the full notebook cells\n",
       "var notebookContainer = gd.closest('#notebook-container');\n",
       "if (notebookContainer) {{\n",
       "    x.observe(notebookContainer, {childList: true});\n",
       "}}\n",
       "\n",
       "// Listen for the clearing of the current output cell\n",
       "var outputEl = gd.closest('.output');\n",
       "if (outputEl) {{\n",
       "    x.observe(outputEl, {childList: true});\n",
       "}}\n",
       "\n",
       "                        })                };                });            </script>        </div>"
      ]
     },
     "metadata": {},
     "output_type": "display_data"
    }
   ],
   "source": [
    "import pandas as pd\n",
    "import plotly.express as px\n",
    "\n",
    "fig = px.scatter_mapbox(df, lat=\"placeAlt\", lon=\"placeLng\", hover_name=\"placeName\", hover_data=[\"placeName\", \"Address\",\"placeZone\",'Country', \"numPeopleVisited\"],\n",
    "                        color_discrete_sequence=[\"#4b7eb1\"], zoom=3, height=300, size='score', size_max=15,\n",
    "                        labels={'placeAlt':'Latitude','placeLng':'Longitude','placeName':'Name','numPeopleVisited':'Number of people who visited','placeZone':'City'})\n",
    "fig.update_layout(mapbox_style=\"carto-positron\")\n",
    "fig.update_layout(margin={\"r\":0,\"t\":0,\"l\":0,\"b\":0})\n",
    "# fig.update_traces(cluster={'enabled':True})\n",
    "fig.show()"
   ]
  },
  {
   "cell_type": "markdown",
   "metadata": {
    "cell_id": "95e0cd493cd04ae3812b27a425ccd249",
    "deepnote_cell_type": "markdown",
    "tags": []
   },
   "source": [
    "## 5. Filter Search Engine\n",
    "We want to define a new Engine that searches across multiples corpora, instead of a single corpus, and combines their similarities. In order to do this we compute the similarities for each query on their respective corpus and we then combine it with the others through a **weighted sum**.\n",
    "We could choose any weights for this purpose, but we want to represent the importance of a certain corpus versus the others. As such we choose that the weights for each corpus is inversely proportional to the number of terms in their corpus, as less terms means a smaller corpus, meaning that an eventual match there is probably more important than in the other corpora.\n",
    "$$\n",
    "Similarity_C(q,d) = \\sum_{c \\in C} \\frac{similarity_c(q,d)}{\\sqrt{|{terms \\in c}|}}\n",
    "$$"
   ]
  },
  {
   "cell_type": "code",
   "execution_count": 47,
   "metadata": {
    "cell_id": "6616e5eb09544188bee77743bb27c49d",
    "deepnote_cell_type": "code",
    "deepnote_to_be_reexecuted": false,
    "execution_millis": 63752,
    "execution_start": 1668526541958,
    "output_cleared": true,
    "source_hash": "fccb9f31",
    "tags": []
   },
   "outputs": [],
   "source": [
    "from func.engines import FilterEngine\n",
    "\n",
    "filterEngine = FilterEngine(data)\n",
    "filterEngine.fit(corpora=['placeName','placeAddress', 'placeDesc'])"
   ]
  },
  {
   "cell_type": "code",
   "execution_count": 48,
   "metadata": {
    "cell_id": "1d104e66a5c34d62a1f58fa629e40d0b",
    "deepnote_cell_type": "code",
    "deepnote_table_loading": false,
    "deepnote_table_state": {
     "filters": [],
     "pageIndex": 0,
     "pageSize": 10,
     "sortBy": []
    },
    "deepnote_to_be_reexecuted": false,
    "execution_millis": 9,
    "execution_start": 1668526605752,
    "output_cleared": false,
    "source_hash": "1ebe25a1",
    "tags": []
   },
   "outputs": [
    {
     "data": {
      "text/plain": [
       "{'placeName': 0.45451647931745714,\n",
       " 'placeAddress': 0.3510903540177221,\n",
       " 'placeDesc': 0.19439316666482073}"
      ]
     },
     "execution_count": 48,
     "metadata": {},
     "output_type": "execute_result"
    }
   ],
   "source": [
    "filterEngine.corpora_weights"
   ]
  },
  {
   "cell_type": "markdown",
   "metadata": {
    "cell_id": "310248fe6e274d4e8b423ab6da743f56",
    "deepnote_cell_type": "markdown",
    "tags": []
   },
   "source": [
    "Test it out!\n",
    "The search function takes as input a dictionary where the key is the corpus to search in and the value is the query for such corpus. Then it takes parameters `tags, editors, lists` as lists of values and finally it takes `min_visited, max_visited` as integers. \n",
    "```python\n",
    "filterEngine.search(\n",
    "    queries     = dict<corpus_name, corpus_query>, \n",
    "    tags        = list<tags>,\n",
    "    editors     = list<editors>,\n",
    "    lists       = list<lists>,\n",
    "    min_visited = int,\n",
    "    max_visited = int)\n",
    "```"
   ]
  },
  {
   "cell_type": "code",
   "execution_count": 49,
   "metadata": {
    "cell_id": "992bd5c7422242f2a4d9fa50decf4158",
    "deepnote_cell_type": "code",
    "deepnote_table_invalid": false,
    "deepnote_table_loading": false,
    "deepnote_table_state": {
     "filters": [],
     "pageIndex": 0,
     "pageSize": 10,
     "sortBy": []
    },
    "deepnote_to_be_reexecuted": false,
    "execution_millis": 846,
    "execution_start": 1668526605753,
    "output_cleared": false,
    "source_hash": "c28fa847",
    "tags": []
   },
   "outputs": [
    {
     "data": {
      "text/html": [
       "<div>\n",
       "<style scoped>\n",
       "    .dataframe tbody tr th:only-of-type {\n",
       "        vertical-align: middle;\n",
       "    }\n",
       "\n",
       "    .dataframe tbody tr th {\n",
       "        vertical-align: top;\n",
       "    }\n",
       "\n",
       "    .dataframe thead th {\n",
       "        text-align: right;\n",
       "    }\n",
       "</style>\n",
       "<table border=\"1\" class=\"dataframe\">\n",
       "  <thead>\n",
       "    <tr style=\"text-align: right;\">\n",
       "      <th></th>\n",
       "      <th>placeUrl</th>\n",
       "      <th>placeAddress</th>\n",
       "      <th>placeDesc</th>\n",
       "      <th>similarity</th>\n",
       "      <th>placeName</th>\n",
       "    </tr>\n",
       "  </thead>\n",
       "  <tbody>\n",
       "    <tr>\n",
       "      <th>1992</th>\n",
       "      <td>https://www.atlasobscura.com/places/colonel-sa...</td>\n",
       "      <td>701 Baxter Ave; Louisville, Kentucky, 40204; U...</td>\n",
       "      <td>Located in Kentucky’s Cave Hill Cemetery, the ...</td>\n",
       "      <td>0.976680</td>\n",
       "      <td>Colonel Sanders' Grave</td>\n",
       "    </tr>\n",
       "    <tr>\n",
       "      <th>5401</th>\n",
       "      <td>https://www.atlasobscura.com/places/smokey-bea...</td>\n",
       "      <td>102 Smokey Bear Blvd; Capitan, New Mexico; Uni...</td>\n",
       "      <td>In 1950, a wildfire raged in the Lincoln Natio...</td>\n",
       "      <td>0.954654</td>\n",
       "      <td>Smokey Bear's Grave</td>\n",
       "    </tr>\n",
       "    <tr>\n",
       "      <th>2128</th>\n",
       "      <td>https://www.atlasobscura.com/places/grave-of-j...</td>\n",
       "      <td>1501 Greenmount Ave; Baltimore, Maryland; Unit...</td>\n",
       "      <td>One of the top actors of his day, Booth assass...</td>\n",
       "      <td>0.805607</td>\n",
       "      <td>Grave of John Wilkes Booth</td>\n",
       "    </tr>\n",
       "    <tr>\n",
       "      <th>2382</th>\n",
       "      <td>https://www.atlasobscura.com/places/the-unmark...</td>\n",
       "      <td>626 Baily Road; Yeadon, Pennsylvania; United S...</td>\n",
       "      <td>Section 15 of the Holy Cross Cemetery in Yeado...</td>\n",
       "      <td>0.805607</td>\n",
       "      <td>Unmarked Grave of H.H. Holmes</td>\n",
       "    </tr>\n",
       "    <tr>\n",
       "      <th>2422</th>\n",
       "      <td>https://www.atlasobscura.com/places/paste-eate...</td>\n",
       "      <td>Goldfield Pioneer Cemetery; Goldfield, Nevada;...</td>\n",
       "      <td>As the story goes, a vagrant wandering the str...</td>\n",
       "      <td>0.805607</td>\n",
       "      <td>Paste Eater's Grave</td>\n",
       "    </tr>\n",
       "    <tr>\n",
       "      <th>2665</th>\n",
       "      <td>https://www.atlasobscura.com/places/grave-of-c...</td>\n",
       "      <td>330 Bonaventure Rd; Savannah, Georgia, 31404; ...</td>\n",
       "      <td>Born: September 21, 1846 Died: January 24, 187...</td>\n",
       "      <td>0.805607</td>\n",
       "      <td>Grave of Corinne Elliot Lawton</td>\n",
       "    </tr>\n",
       "    <tr>\n",
       "      <th>2911</th>\n",
       "      <td>https://www.atlasobscura.com/places/st-omer-ce...</td>\n",
       "      <td>St Omer Rd; Ashmore, Illinois; United States</td>\n",
       "      <td>Driving along one of many county roads in the ...</td>\n",
       "      <td>0.805607</td>\n",
       "      <td>St. Omer Cemetery Witch Grave</td>\n",
       "    </tr>\n",
       "    <tr>\n",
       "      <th>3486</th>\n",
       "      <td>https://www.atlasobscura.com/places/tent-grave...</td>\n",
       "      <td>Mt. Gilead Church Rd; Sparta, Tennessee; Unite...</td>\n",
       "      <td>A fascinating group of tent-shaped stone grave...</td>\n",
       "      <td>0.805607</td>\n",
       "      <td>Tent Graves of Mt. Gilead Cemetery</td>\n",
       "    </tr>\n",
       "    <tr>\n",
       "      <th>3532</th>\n",
       "      <td>https://www.atlasobscura.com/places/grave-of-a...</td>\n",
       "      <td>1066 Connor Road; Castle Shannon, Pennsylvania...</td>\n",
       "      <td>A site of pilgrimage for many art fans, Andy W...</td>\n",
       "      <td>0.805607</td>\n",
       "      <td>Grave of Andy Warhol</td>\n",
       "    </tr>\n",
       "    <tr>\n",
       "      <th>4062</th>\n",
       "      <td>https://www.atlasobscura.com/places/the-grave-...</td>\n",
       "      <td>2 Cemetery Rd; Natchez, Mississippi, 39120; Un...</td>\n",
       "      <td>When Florence Irene Ford died at the age of 10...</td>\n",
       "      <td>0.805607</td>\n",
       "      <td>Grave of Florence Irene Ford</td>\n",
       "    </tr>\n",
       "  </tbody>\n",
       "</table>\n",
       "</div>"
      ],
      "text/plain": [
       "                                               placeUrl  \\\n",
       "1992  https://www.atlasobscura.com/places/colonel-sa...   \n",
       "5401  https://www.atlasobscura.com/places/smokey-bea...   \n",
       "2128  https://www.atlasobscura.com/places/grave-of-j...   \n",
       "2382  https://www.atlasobscura.com/places/the-unmark...   \n",
       "2422  https://www.atlasobscura.com/places/paste-eate...   \n",
       "2665  https://www.atlasobscura.com/places/grave-of-c...   \n",
       "2911  https://www.atlasobscura.com/places/st-omer-ce...   \n",
       "3486  https://www.atlasobscura.com/places/tent-grave...   \n",
       "3532  https://www.atlasobscura.com/places/grave-of-a...   \n",
       "4062  https://www.atlasobscura.com/places/the-grave-...   \n",
       "\n",
       "                                           placeAddress  \\\n",
       "1992  701 Baxter Ave; Louisville, Kentucky, 40204; U...   \n",
       "5401  102 Smokey Bear Blvd; Capitan, New Mexico; Uni...   \n",
       "2128  1501 Greenmount Ave; Baltimore, Maryland; Unit...   \n",
       "2382  626 Baily Road; Yeadon, Pennsylvania; United S...   \n",
       "2422  Goldfield Pioneer Cemetery; Goldfield, Nevada;...   \n",
       "2665  330 Bonaventure Rd; Savannah, Georgia, 31404; ...   \n",
       "2911       St Omer Rd; Ashmore, Illinois; United States   \n",
       "3486  Mt. Gilead Church Rd; Sparta, Tennessee; Unite...   \n",
       "3532  1066 Connor Road; Castle Shannon, Pennsylvania...   \n",
       "4062  2 Cemetery Rd; Natchez, Mississippi, 39120; Un...   \n",
       "\n",
       "                                              placeDesc  similarity  \\\n",
       "1992  Located in Kentucky’s Cave Hill Cemetery, the ...    0.976680   \n",
       "5401  In 1950, a wildfire raged in the Lincoln Natio...    0.954654   \n",
       "2128  One of the top actors of his day, Booth assass...    0.805607   \n",
       "2382  Section 15 of the Holy Cross Cemetery in Yeado...    0.805607   \n",
       "2422  As the story goes, a vagrant wandering the str...    0.805607   \n",
       "2665  Born: September 21, 1846 Died: January 24, 187...    0.805607   \n",
       "2911  Driving along one of many county roads in the ...    0.805607   \n",
       "3486  A fascinating group of tent-shaped stone grave...    0.805607   \n",
       "3532  A site of pilgrimage for many art fans, Andy W...    0.805607   \n",
       "4062  When Florence Irene Ford died at the age of 10...    0.805607   \n",
       "\n",
       "                               placeName  \n",
       "1992              Colonel Sanders' Grave  \n",
       "5401                 Smokey Bear's Grave  \n",
       "2128          Grave of John Wilkes Booth  \n",
       "2382       Unmarked Grave of H.H. Holmes  \n",
       "2422                 Paste Eater's Grave  \n",
       "2665      Grave of Corinne Elliot Lawton  \n",
       "2911       St. Omer Cemetery Witch Grave  \n",
       "3486  Tent Graves of Mt. Gilead Cemetery  \n",
       "3532                Grave of Andy Warhol  \n",
       "4062        Grave of Florence Irene Ford  "
      ]
     },
     "execution_count": 49,
     "metadata": {},
     "output_type": "execute_result"
    }
   ],
   "source": [
    "filterEngine.search(\n",
    "    queries = {\n",
    "        'placeDesc': 'chicken mascot', \n",
    "        'placeName': 'grave',\n",
    "        'placeAddress' : 'United States'\n",
    "    }, \n",
    "    tags=['gravestones'],\n",
    "    # editors=['SEANETTA'],\n",
    "    # lists=['Historic Cemeteries in London'],\n",
    "    # min_visited=200,\n",
    "    # max_visited=500,\n",
    "    # columns=True,\n",
    "    k=10\n",
    ")"
   ]
  }
 ],
 "metadata": {
  "deepnote": {},
  "deepnote_execution_queue": [],
  "deepnote_full_width": false,
  "deepnote_notebook_id": "85d04060322443ff9eea35e94a1cf11d",
  "kernelspec": {
   "display_name": "Python 3 (ipykernel)",
   "language": "python",
   "name": "python3"
  },
  "language_info": {
   "codemirror_mode": {
    "name": "ipython",
    "version": 3
   },
   "file_extension": ".py",
   "mimetype": "text/x-python",
   "name": "python",
   "nbconvert_exporter": "python",
   "pygments_lexer": "ipython3",
   "version": "3.10.8"
  },
  "toc-autonumbering": false,
  "toc-showcode": false,
  "toc-showmarkdowntxt": false
 },
 "nbformat": 4,
 "nbformat_minor": 4
}
